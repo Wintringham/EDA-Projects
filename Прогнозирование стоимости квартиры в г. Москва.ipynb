{
  "cells": [
    {
      "cell_type": "markdown",
      "source": [
        "## Прогнозирование стоимости квартиры в г. Москва"
      ],
      "metadata": {
        "id": "il3hetxV_pCQ"
      },
      "id": "il3hetxV_pCQ"
    },
    {
      "cell_type": "markdown",
      "source": [
        "Задачи:\n",
        "\n",
        "- сформировать датасет путем парсинга объявлений о продаже жилой недвижимости в г. Москва с сайта Циан;\n",
        "- проанализировать эти данные и выделить фичи для последующего построения и обучения модели;\n",
        "- построить эффективную ML модель, оценить влияние отдельных факторов на итоговый результат, определить перспективы дальнейшего развития модели."
      ],
      "metadata": {
        "id": "6X2vIFqe_gr4"
      },
      "id": "6X2vIFqe_gr4"
    },
    {
      "cell_type": "markdown",
      "source": [
        "Этапы выполнения анализа:\n",
        "\n",
        "1. Парсинг данных\n",
        "2. Предобработка данных и EDA\n",
        "3. Построение ML модели\n",
        "4. Выводы"
      ],
      "metadata": {
        "id": "4IHnoH_0_l_7"
      },
      "id": "4IHnoH_0_l_7"
    },
    {
      "cell_type": "markdown",
      "source": [
        "## 1. Парсинг данных"
      ],
      "metadata": {
        "id": "1HUM7pIeAxFL"
      },
      "id": "1HUM7pIeAxFL"
    },
    {
      "cell_type": "code",
      "source": [
        "# pip install selenium"
      ],
      "metadata": {
        "id": "wXP-t2PY-E2-"
      },
      "id": "wXP-t2PY-E2-",
      "execution_count": 14,
      "outputs": []
    },
    {
      "cell_type": "code",
      "source": [
        "# pip install catboost"
      ],
      "metadata": {
        "id": "ap1Pn9jv1_a_"
      },
      "id": "ap1Pn9jv1_a_",
      "execution_count": 10,
      "outputs": []
    },
    {
      "cell_type": "code",
      "source": [
        "# pip install phik"
      ],
      "metadata": {
        "id": "nLYpSOop17kN"
      },
      "id": "nLYpSOop17kN",
      "execution_count": 8,
      "outputs": []
    },
    {
      "cell_type": "code",
      "execution_count": 13,
      "id": "0119af8f",
      "metadata": {
        "id": "0119af8f"
      },
      "outputs": [],
      "source": [
        "# импортируем необходимые библиотеки\n",
        "\n",
        "from bs4 import BeautifulSoup\n",
        "from selenium import webdriver\n",
        "from selenium.webdriver.common.by import By\n",
        "from selenium.webdriver.support.wait import WebDriverWait\n",
        "from selenium.webdriver.common.action_chains import ActionChains\n",
        "from selenium.webdriver.common.keys import Keys\n",
        "\n",
        "import pandas as pd\n",
        "import numpy as np\n",
        "import seaborn as sns\n",
        "\n",
        "import phik\n",
        "from phik import resources, report\n",
        "import time\n",
        "from datetime import date\n",
        "\n",
        "from catboost import CatBoostRegressor\n",
        "from catboost import Pool\n",
        "\n",
        "import sklearn as skl\n",
        "from sklearn.model_selection import train_test_split\n",
        "from sklearn.linear_model import LinearRegression\n",
        "from sklearn import metrics\n",
        "from sklearn.metrics import mean_absolute_error, mean_absolute_percentage_error"
      ]
    },
    {
      "cell_type": "code",
      "execution_count": 7,
      "id": "5eb09bed",
      "metadata": {
        "id": "5eb09bed"
      },
      "outputs": [],
      "source": [
        "# для корректного парсинга с Циана требуется разбить Москву по округам; ссылки сохраняем в словарь\n",
        "\n",
        "area_raw_links = {\n",
        "    'СЗАО':'https://www.cian.ru/kupit-kvartiru-vtorichka-moskva-szao-041/',\n",
        "    'САО':'https://www.cian.ru/kupit-kvartiru-vtorichka-moskva-sao-045/',\n",
        "    'СВАО':'https://www.cian.ru/kupit-kvartiru-vtorichka-moskva-svao-046/',\n",
        "    'ЗАО':'https://www.cian.ru/kupit-kvartiru-vtorichka-moskva-zao-0411/',\n",
        "    'ЦАО':'https://www.cian.ru/kupit-kvartiru-vtorichka-moskva-cao-044/',\n",
        "    'ВАО':'https://www.cian.ru/kupit-kvartiru-vtorichka-moskva-vao-047/',\n",
        "    'ЮЗАО':'https://www.cian.ru/kupit-kvartiru-vtorichka-moskva-yuzao-0410/',\n",
        "    'ЮАО':'https://www.cian.ru/kupit-kvartiru-vtorichka-moskva-yuao-049/',\n",
        "    'ЮВАО':'https://www.cian.ru/kupit-kvartiru-vtorichka-moskva-yuvao-048/',\n",
        "    'ЗелАО':'https://www.cian.ru/kupit-kvartiru-vtorichka-moskva-zelenogradskiy-04151/'\n",
        "             }"
      ]
    },
    {
      "cell_type": "code",
      "execution_count": 8,
      "id": "007d71ef",
      "metadata": {
        "id": "007d71ef"
      },
      "outputs": [],
      "source": [
        "# вычисляем номера, которыми в ссылках кодируются округа, и формируем словарь на их основе\n",
        "\n",
        "area_nums = {\n",
        "    'СЗАО':'1',\n",
        "    'САО':'5',\n",
        "    'СВАО':'6',\n",
        "    'ЗАО':'11',\n",
        "    'ЦАО':'4',\n",
        "    'ВАО':'7',\n",
        "    'ЮЗАО':'10',\n",
        "    'ЮАО':'9',\n",
        "    'ЮВАО':'8',\n",
        "    'ЗелАО':'151'\n",
        "             }"
      ]
    },
    {
      "cell_type": "code",
      "execution_count": null,
      "id": "211536fd",
      "metadata": {
        "id": "211536fd"
      },
      "outputs": [],
      "source": [
        "# проверяем качество ссылок\n",
        "\n",
        "driver = webdriver.Chrome()\n",
        "for i in area_nums.values():\n",
        "    l = 'https://www.cian.ru/cat.php?deal_type=sale&district%5B0%5D='+i+\\\n",
        "'&engine_version=2&maxtarea=50&object_type%5B0%5D=1&offer_type=flat'\n",
        "    try:\n",
        "        dr = driver.get(l)\n",
        "        time.sleep(3)\n",
        "    except:\n",
        "        print(i)\n",
        "driver.quit()"
      ]
    },
    {
      "cell_type": "code",
      "execution_count": null,
      "id": "bf03f471",
      "metadata": {
        "scrolled": true,
        "id": "bf03f471"
      },
      "outputs": [],
      "source": [
        "# формируем список данных (показателей), которые необходимо считать для каждого объявления\n",
        "\n",
        "columns = ['project', 'metro', 'distance_to_metro', 'adress', 'title', 'ready_main', 'room_type', 'square', \\\n",
        "           'floor', \\\n",
        "           'tag_info', 'gallery_tag', 'price', 'price_per_metre', 'seller_type', 'seller_name', 'date', 'time', 'href']\n",
        "\n",
        "columns_district = ['district']+columns\n",
        "\n",
        "'''\n",
        "Специфика парсинга с Циана такова, что предельное количество лотов, выводимых по одному запросу - 1500 шт. (54 стр).\n",
        "Соотвественно, внутри разбиения по округам, запрос необходимо разбивать еще по нескольким параметрам (фильтрам),\n",
        "чтобы в итоге количество результатов на выдаче на каждом этапе не превышало 1500, и не происходило потери информации.\n",
        "Самое оптимальное разбиение - по метражу. Следует учитывать, что в ЦАО высокая концентрация квартир с большой площадью.\n",
        "'''\n",
        "\n",
        "square_list = [0, 20, 30, 35, 40, 45, 50, 55, 60, 70, 80, 90, 100, 120, 140, 170, 210, 250, 5000]\n",
        "\n",
        "# формируем заготовку под итоговый датасет и начниаем процесс парсинга\n",
        "\n",
        "total_df = pd.DataFrame(columns=columns_district)\n",
        "\n",
        "total = 0\n",
        "last_page=False\n",
        "total_amount = 0\n",
        "\n",
        "today = date.today()\n",
        "\n",
        "driver = webdriver.Chrome()\n",
        "\n",
        "# парсинг идет по округам, а внутри округа - по интервалам метража\n",
        "for area_name, area_num in list(area_nums.items()):\n",
        "\n",
        "    print('парсим', area_name)\n",
        "    print()\n",
        "\n",
        "    main_df = pd.DataFrame(columns=columns)\n",
        "\n",
        "    for i, j in enumerate(square_list[:-1]):\n",
        "\n",
        "        my_min = str(j)\n",
        "        my_max = str(square_list[i+1])\n",
        "\n",
        "        flag = 'go'\n",
        "        count_pages = 0\n",
        "        filter_df = pd.DataFrame(columns=columns)\n",
        "\n",
        "        link = 'https://www.cian.ru/cat.php?deal_type=sale&district%5B0%5D='+area_num+\\\n",
        "        '&engine_version=2&maxtarea='+my_max+'&mintarea='+my_min+\\\n",
        "        '&object_type%5B0%5D=1&offer_type=flat&sort=area_order'\n",
        "\n",
        "        dr = driver.get(link)\n",
        "        driver.maximize_window()\n",
        "        time.sleep(3)\n",
        "\n",
        "        html = driver.page_source\n",
        "        soup = BeautifulSoup(html, 'lxml')\n",
        "\n",
        "        if len(soup.find_all(attrs={\"data-name\":\"SummaryHeader\"}))<=0:\n",
        "            print('видимо, пустая страница?', area_name, i, j)\n",
        "\n",
        "        else:\n",
        "            amount = soup.find_all(attrs={\"data-name\":\"SummaryHeader\"})[0].text\n",
        "            num = amount.split('Найдено')[-1].split('объявлени')[0].strip()\n",
        "            num_int = int(''.join(num.split()))\n",
        "\n",
        "            print(f'в {area_name} на метраже {my_min}-{my_max} нашлось {num_int} лотов')\n",
        "\n",
        "#             необходимо следить за количеством лотов на фильтре, чтобы оно не превышало 1500\n",
        "\n",
        "            if num_int>1400:\n",
        "                print('TW!')\n",
        "\n",
        "            amount_of_pages = None\n",
        "            last_page_ads = None\n",
        "\n",
        "            '''\n",
        "            После того, как установлен фильтр и сформирована ссылка для парсинга, начинаем снимать результаты постранично.\n",
        "            Пока для переменной flag сохраняется значение 'go', это означает, что обработаны еще не все доступные страницы.\n",
        "            Когда устанавливается значение 'stop', это значит, что была обработана последняя страница, и можно переходить к следующему.\n",
        "            '''\n",
        "\n",
        "            while flag=='go':\n",
        "\n",
        "                time.sleep(1)\n",
        "                html = driver.page_source\n",
        "                soup = BeautifulSoup(html, 'lxml')\n",
        "\n",
        "                page_df = pd.DataFrame(columns=columns)\n",
        "\n",
        "                ad_list = soup.find_all(attrs={\"data-testid\":\"offer-card\"})\n",
        "\n",
        "#                 определяем, является ли текущая страница последней\n",
        "                if len(soup.find_all(attrs={\"data-name\":\"PreInfiniteBanner\"}))>0:\n",
        "                    ad_list = soup.find_all(attrs={\"class\":\"_93444fe79c--wrapper--W0WqH\"})[0].\\\n",
        "                                find_all(attrs={\"data-testid\":\"offer-card\"})\n",
        "                    last_page=True\n",
        "\n",
        "#                производим парсинг текущей страницы циклом по каждому объявлению\n",
        "                for ad in ad_list:\n",
        "\n",
        "                    block_list = ad.find_all(attrs={\"data-name\":\"GeneralInfoSectionRowComponent\"})\n",
        "                    blocks_amount = len(block_list)\n",
        "\n",
        "                    block_description = []\n",
        "                    block_tags = []\n",
        "\n",
        "#                     разбиваем soup конкретного объявления на структурные блоки\n",
        "\n",
        "                    for i in block_list:\n",
        "                        if len(i.find_all(attrs={'data-mark':'OfferTitle'}))>0:\n",
        "                            block_title = i.find_all(attrs={'data-mark':'OfferTitle'})[0].text\n",
        "                            if len(i.find_all(attrs={'data-mark':'OfferSubtitle'}))>0:\n",
        "                                block_title = block_title + '; ' + i.find_all(attrs={'data-mark':'OfferSubtitle'})[0].text\n",
        "                        elif len(i.find_all(attrs={\"data-name\":\"SpecialGeo\"}))>0:\n",
        "                            block_location = i\n",
        "                        elif len(i.find_all(attrs={\"data-mark\":\"MainPrice\"}))>0:\n",
        "                            block_price = i\n",
        "                        elif len(i.find_all(attrs={\"data-name\":\"Description\"}))>0:\n",
        "                            block_description = i.find_all(attrs={\"data-name\":\"Description\"})\n",
        "                        elif block_list.index(i) == 1:\n",
        "                            block_tags = i.find_all('div', '_93444fe79c--label--G5hpt')\n",
        "                        else:\n",
        "                            pass\n",
        "\n",
        "#                     устанавливаем значения None для всех параметров\n",
        "                    gallery_tag, tag_info, ready_main, floor, room_type, square, project, metro, distance_to_metro,\\\n",
        "                    adress, ready, \\\n",
        "                    description, price, price_int, price_per_metre, price_per_metre_int, seller_info, \\\n",
        "                    seller_type, seller_name, \\\n",
        "                    pub_datetime, pub_date, pub_time = [None]*22\n",
        "\n",
        "#                     выделяем тэги объявления\n",
        "\n",
        "                    if len(ad.find_all(attrs={\"data-name\":\"GalleryLabels\"}))>0:\n",
        "                        gallery_tag = ad.find_all(attrs={\"data-name\":\"GalleryLabels\"})[0].text\n",
        "\n",
        "                    if len(block_tags)>0:\n",
        "                        tag_info = ', '.join([k.text for k in block_tags])\n",
        "\n",
        "#                     определяем срок сдачи главного корпуса проекта\n",
        "\n",
        "                    if len(ad.find_all(attrs={\"data-mark\":\"Deadline\"}))>0:\n",
        "                        ready_main = ad.find_all(attrs={\"data-mark\":\"Deadline\"})[0].text\n",
        "\n",
        "#                     выделяем ссылку на страницу предложения\n",
        "\n",
        "                    href = ad.find('a')['href']\n",
        "\n",
        "#                     выделяем этаж и комнатность\n",
        "\n",
        "                    for l in block_title.lower().split(','):\n",
        "                        if 'этаж' in l:\n",
        "                                floor = l.strip().split()[0]\n",
        "                        elif 'комн' in l or 'студ' in l:\n",
        "                                room_type = l\n",
        "\n",
        "#                     определяем срок сдачи корпуса\n",
        "\n",
        "                    ind = block_title.lower().find('сдача корпуса')\n",
        "                    ready = block_title.lower()[ind+13:].strip()\n",
        "\n",
        "#                     выделяем площадь квартиры\n",
        "                    if 'м²' in block_title:\n",
        "                        try:\n",
        "                            square = float(block_title.split(' м²')[0].split()[-1].replace(',', '.'))\n",
        "                        except:\n",
        "                            if 'м²,' in block_title:\n",
        "                                try:\n",
        "                                    square = float(block_title.split(' м²,')[0].split()[-1].replace(',', '.'))\n",
        "                                except:\n",
        "                                    square = 0\n",
        "                    else:\n",
        "                        square = 0\n",
        "\n",
        "#                      по возможности, выделяем название проекта (жилого комплекса)\n",
        "\n",
        "                    if len(block_location.find_all(attrs={\"data-name\":\"ContentRow\"}))>0:\n",
        "                        project = block_location.find_all(attrs={\"data-name\":\"ContentRow\"})[0].text\n",
        "\n",
        "#                     выделяем название ближайшего метро и расстояние до него, а также адрес предложения\n",
        "\n",
        "                    metro = block_location.find_all(attrs={\"data-name\":\"SpecialGeo\"})[0].find_all('a')[0].text\n",
        "                    distance_to_metro = block_location.find_all(attrs={\"data-name\":\"SpecialGeo\"})[0].find_all('div')[-1].text\n",
        "                    adress = ', '.join([i.text for i in block_location.find_all(attrs={\"data-name\":\"GeoLabel\"})])\n",
        "\n",
        "#                     выявляем цену лота и цену квадратного метра\n",
        "\n",
        "                    price = block_price.find_all(attrs={\"data-mark\":\"MainPrice\"})[0].text.strip('₽')\n",
        "                    price_int = int(''.join(price.split()))\n",
        "                    price_per_metre = block_price.find_all(attrs={\"data-mark\":\"PriceInfo\"})[0].text.strip('₽/м²')\n",
        "                    price_per_metre_int = int(''.join(price_per_metre.split()))\n",
        "\n",
        "#                     выделяем описание объекта\n",
        "\n",
        "                    if len(block_description)>0:\n",
        "                        description = block_description[0].text\n",
        "\n",
        "#                     выделяем данные о продавце\n",
        "\n",
        "                    seller_info = ad.find_all(attrs={\"data-name\":\"LinkArea\"})[-1].\\\n",
        "                                    find_all(attrs={\"data-name\":\"BrandingLevelWrapper\"})[0].\\\n",
        "                                    find_all('span')\n",
        "                    seller_type = seller_info[1].text\n",
        "                    seller_name = seller_info[2].text\n",
        "\n",
        "#                     определяем дату и время публикации объявления\n",
        "\n",
        "                    pub_datetime = ad.find_all(attrs={\"data-name\":\"TimeLabel\"})[0].find_all('span')[-1].text\n",
        "                    pub_date = pub_datetime.split(',')[0]\n",
        "                    pub_time = pub_datetime.split()[-1]\n",
        "                    if pub_date=='сегодня':\n",
        "                        pub_date = str(today)\n",
        "\n",
        "        #             сохраняем результат в датафрейм\n",
        "                    my_ad = {'project':project, 'metro':metro, 'distance_to_metro':distance_to_metro, 'adress':adress, \\\n",
        "                             'title':block_title, 'ready':ready, 'ready_main':ready_main,\\\n",
        "                             'description': description,\n",
        "                             'room_type':room_type, 'square':square, 'floor':floor, 'tag_info':tag_info, \\\n",
        "                             'gallery_tag':gallery_tag,\\\n",
        "                             'price':price_int, 'price_per_metre':price_per_metre_int, \\\n",
        "                             'seller_type':seller_type, 'seller_name':seller_name, 'date':pub_date, 'time':pub_time, \\\n",
        "                             'href':href}\n",
        "\n",
        "                    my_df = pd.DataFrame(my_ad, index=[None])\n",
        "\n",
        "#                     добавляем результат по конкретному объявлению в общий датафрейм для конкретной страницы\n",
        "                    page_df = page_df.merge(my_df, 'outer')\n",
        "\n",
        "#                добавляем результат по конкретной странице в общий датафрейм по фильтру\n",
        "                filter_df = filter_df.merge(page_df, 'outer')\n",
        "\n",
        "                count_pages +=1\n",
        "                print(f'{count_pages} страница готова ({page_df.shape[0]} лотов)')\n",
        "\n",
        "                # на одной странице Циан обычно выводит 28 объявлений, но их может быть и меньше\n",
        "\n",
        "\n",
        "                if last_page:\n",
        "                    if len(soup.find_all(attrs={\"data-name\":\"Pagination\"}))>0:\n",
        "                        amount_of_pages = soup.find_all(attrs={\"data-name\":\"Pagination\"})[0].find_all('li')[-1].text\n",
        "                    else:\n",
        "                        amount_of_pages = 1\n",
        "\n",
        "                    last_page_ads = page_df.shape[0]\n",
        "                '''\n",
        "                Проверяем, присутствует ли в панели навигации по страницам кнопка \"Дальше\".\n",
        "                Если да, то кликаем на нее. Если нет, то определяем текущую страницу как последнюю (flag='stop') и выходим из цикла.\n",
        "                '''\n",
        "\n",
        "                if len(driver.find_elements(By.LINK_TEXT, \"Дальше\"))>0:\n",
        "                    button = driver.find_element(By.LINK_TEXT, \"Дальше\")\n",
        "                    clicked=False\n",
        "\n",
        "                    action = ActionChains(driver)\n",
        "                    action.scroll_to_element(button).send_keys(Keys.ARROW_DOWN).perform()\n",
        "                    time.sleep(1)\n",
        "                    action.send_keys(Keys.ARROW_DOWN).send_keys(Keys.ARROW_DOWN).perform()\n",
        "                    time.sleep(1)\n",
        "\n",
        "                    count_try = 0\n",
        "\n",
        "                    while clicked==False:\n",
        "                        count_try+=1\n",
        "                        try:\n",
        "                            button.click()\n",
        "                            clicked=True\n",
        "                            time.sleep(3)\n",
        "                        except:\n",
        "                            action.send_keys(Keys.ARROW_DOWN).send_keys(Keys.ARROW_DOWN).perform()\n",
        "                            time.sleep(1)\n",
        "                else:\n",
        "                        flag='stop'\n",
        "\n",
        "#             определяем количество дублирований лотов по уникальным ссылкам\n",
        "\n",
        "            href_amount = list(main_df['href'].unique()) + list(filter_df['href'].unique())\n",
        "            unique_href = len(set(href_amount))\n",
        "\n",
        "#             добавляем результат по фильтру в общий датафрейм по округу\n",
        "            main_df = main_df.merge(filter_df, 'outer')\n",
        "\n",
        "            print()\n",
        "            print(f'итого, с фильтра спарсилось {filter_df.shape[0]} ({count_pages} страниц)')\n",
        "            print('всего с округа - ', main_df.shape[0], ' лотов')\n",
        "\n",
        "#     добавляем результат по округу в общий датафрейм по всей Москве\n",
        "    main_df['district'] = area_name\n",
        "    total_df = total_df.merge(main_df, 'outer')\n",
        "\n",
        "    print('итого лотов', total_df.shape[0])\n",
        "\n",
        "# выходим\n",
        "driver.quit()"
      ]
    },
    {
      "cell_type": "code",
      "execution_count": null,
      "id": "94d96719",
      "metadata": {
        "id": "94d96719"
      },
      "outputs": [],
      "source": [
        "# делаем бэкап\n",
        "df_backup = total_df"
      ]
    },
    {
      "cell_type": "markdown",
      "source": [
        "## 2. Предобработка данных"
      ],
      "metadata": {
        "id": "qs9q7bNrRl--"
      },
      "id": "qs9q7bNrRl--"
    },
    {
      "cell_type": "code",
      "source": [
        "total_df = pd.read_excel('parsing_240424_msk.xlsx', index_col=[0])"
      ],
      "metadata": {
        "id": "42gwnWi26h_c"
      },
      "id": "42gwnWi26h_c",
      "execution_count": 16,
      "outputs": []
    },
    {
      "cell_type": "code",
      "source": [
        "total_df.head(3)"
      ],
      "metadata": {
        "colab": {
          "base_uri": "https://localhost:8080/",
          "height": 401
        },
        "id": "4pbRLj1V_0vX",
        "outputId": "edbad10b-f746-469d-d28e-f140597ef8d5"
      },
      "id": "4pbRLj1V_0vX",
      "execution_count": 17,
      "outputs": [
        {
          "output_type": "execute_result",
          "data": {
            "text/plain": [
              "                               project            metro distance_to_metro  \\\n",
              "0                                  NaN  Пятницкое шоссе   13 минут пешком   \n",
              "1                                  NaN        Тушинская    6 минут пешком   \n",
              "2  ЖК «Апарт-комплекс Движение.Тушино»          Спартак    6 минут пешком   \n",
              "\n",
              "                                              adress  \\\n",
              "0  Москва, СЗАО, р-н Митино, м. Пятницкое шоссе, ...   \n",
              "1  Москва, СЗАО, р-н Покровское-Стрешнево, м. Туш...   \n",
              "2  Москва, СЗАО, р-н Покровское-Стрешнево, м. Спа...   \n",
              "\n",
              "                                      title                         ready  \\\n",
              "0                 Студия, 20 м², 17/19 этаж                 ², 17/19 этаж   \n",
              "1    1-комн. апартаменты, 19,7 м², 1/4 этаж    таменты, 19,7 м², 1/4 этаж   \n",
              "2  Апартаменты-студия, 19,12 м², 20/22 этаж  студия, 19,12 м², 20/22 этаж   \n",
              "\n",
              "   ready_main                                        description  \\\n",
              "0         NaN  ИНТЕРЕСНОЕ ПРЕДЛОЖЕНИЕ!\\nПpoдаётся пo переусту...   \n",
              "1         NaN  Апартаменты в доме от собственника после полно...   \n",
              "2         NaN  м. Cпaртaк, м. Тушинcкая (3 минуты пешком). ЖК...   \n",
              "\n",
              "             room_type  square  ...      tag_info gallery_tag    price  \\\n",
              "0               студия   20.00  ...           NaN         NaN  7500000   \n",
              "1  1-комн. апартаменты   19.70  ...           NaN         NaN  6880000   \n",
              "2   апартаменты-студия   19.12  ...  Хорошая цена         NaN  7150000   \n",
              "\n",
              "   price_per_metre             seller_type          seller_name    date  \\\n",
              "0           375000  Агентство недвижимости  Самолет Плюс Москва   вчера   \n",
              "1           349239             Собственник          ID 23840733  11 апр   \n",
              "2           373954                 Риелтор      Виктор Рязанцев   вчера   \n",
              "\n",
              "    time                                      href district  \n",
              "0  16:25  https://www.cian.ru/sale/flat/300877788/     СЗАО  \n",
              "1  21:06  https://www.cian.ru/sale/flat/300708864/     СЗАО  \n",
              "2  07:36  https://www.cian.ru/sale/flat/298910674/     СЗАО  \n",
              "\n",
              "[3 rows x 21 columns]"
            ],
            "text/html": [
              "\n",
              "  <div id=\"df-4d1e2b84-480c-4778-927b-dc03417cace4\" class=\"colab-df-container\">\n",
              "    <div>\n",
              "<style scoped>\n",
              "    .dataframe tbody tr th:only-of-type {\n",
              "        vertical-align: middle;\n",
              "    }\n",
              "\n",
              "    .dataframe tbody tr th {\n",
              "        vertical-align: top;\n",
              "    }\n",
              "\n",
              "    .dataframe thead th {\n",
              "        text-align: right;\n",
              "    }\n",
              "</style>\n",
              "<table border=\"1\" class=\"dataframe\">\n",
              "  <thead>\n",
              "    <tr style=\"text-align: right;\">\n",
              "      <th></th>\n",
              "      <th>project</th>\n",
              "      <th>metro</th>\n",
              "      <th>distance_to_metro</th>\n",
              "      <th>adress</th>\n",
              "      <th>title</th>\n",
              "      <th>ready</th>\n",
              "      <th>ready_main</th>\n",
              "      <th>description</th>\n",
              "      <th>room_type</th>\n",
              "      <th>square</th>\n",
              "      <th>...</th>\n",
              "      <th>tag_info</th>\n",
              "      <th>gallery_tag</th>\n",
              "      <th>price</th>\n",
              "      <th>price_per_metre</th>\n",
              "      <th>seller_type</th>\n",
              "      <th>seller_name</th>\n",
              "      <th>date</th>\n",
              "      <th>time</th>\n",
              "      <th>href</th>\n",
              "      <th>district</th>\n",
              "    </tr>\n",
              "  </thead>\n",
              "  <tbody>\n",
              "    <tr>\n",
              "      <th>0</th>\n",
              "      <td>NaN</td>\n",
              "      <td>Пятницкое шоссе</td>\n",
              "      <td>13 минут пешком</td>\n",
              "      <td>Москва, СЗАО, р-н Митино, м. Пятницкое шоссе, ...</td>\n",
              "      <td>Студия, 20 м², 17/19 этаж</td>\n",
              "      <td>², 17/19 этаж</td>\n",
              "      <td>NaN</td>\n",
              "      <td>ИНТЕРЕСНОЕ ПРЕДЛОЖЕНИЕ!\\nПpoдаётся пo переусту...</td>\n",
              "      <td>студия</td>\n",
              "      <td>20.00</td>\n",
              "      <td>...</td>\n",
              "      <td>NaN</td>\n",
              "      <td>NaN</td>\n",
              "      <td>7500000</td>\n",
              "      <td>375000</td>\n",
              "      <td>Агентство недвижимости</td>\n",
              "      <td>Самолет Плюс Москва</td>\n",
              "      <td>вчера</td>\n",
              "      <td>16:25</td>\n",
              "      <td>https://www.cian.ru/sale/flat/300877788/</td>\n",
              "      <td>СЗАО</td>\n",
              "    </tr>\n",
              "    <tr>\n",
              "      <th>1</th>\n",
              "      <td>NaN</td>\n",
              "      <td>Тушинская</td>\n",
              "      <td>6 минут пешком</td>\n",
              "      <td>Москва, СЗАО, р-н Покровское-Стрешнево, м. Туш...</td>\n",
              "      <td>1-комн. апартаменты, 19,7 м², 1/4 этаж</td>\n",
              "      <td>таменты, 19,7 м², 1/4 этаж</td>\n",
              "      <td>NaN</td>\n",
              "      <td>Апартаменты в доме от собственника после полно...</td>\n",
              "      <td>1-комн. апартаменты</td>\n",
              "      <td>19.70</td>\n",
              "      <td>...</td>\n",
              "      <td>NaN</td>\n",
              "      <td>NaN</td>\n",
              "      <td>6880000</td>\n",
              "      <td>349239</td>\n",
              "      <td>Собственник</td>\n",
              "      <td>ID 23840733</td>\n",
              "      <td>11 апр</td>\n",
              "      <td>21:06</td>\n",
              "      <td>https://www.cian.ru/sale/flat/300708864/</td>\n",
              "      <td>СЗАО</td>\n",
              "    </tr>\n",
              "    <tr>\n",
              "      <th>2</th>\n",
              "      <td>ЖК «Апарт-комплекс Движение.Тушино»</td>\n",
              "      <td>Спартак</td>\n",
              "      <td>6 минут пешком</td>\n",
              "      <td>Москва, СЗАО, р-н Покровское-Стрешнево, м. Спа...</td>\n",
              "      <td>Апартаменты-студия, 19,12 м², 20/22 этаж</td>\n",
              "      <td>студия, 19,12 м², 20/22 этаж</td>\n",
              "      <td>NaN</td>\n",
              "      <td>м. Cпaртaк, м. Тушинcкая (3 минуты пешком). ЖК...</td>\n",
              "      <td>апартаменты-студия</td>\n",
              "      <td>19.12</td>\n",
              "      <td>...</td>\n",
              "      <td>Хорошая цена</td>\n",
              "      <td>NaN</td>\n",
              "      <td>7150000</td>\n",
              "      <td>373954</td>\n",
              "      <td>Риелтор</td>\n",
              "      <td>Виктор Рязанцев</td>\n",
              "      <td>вчера</td>\n",
              "      <td>07:36</td>\n",
              "      <td>https://www.cian.ru/sale/flat/298910674/</td>\n",
              "      <td>СЗАО</td>\n",
              "    </tr>\n",
              "  </tbody>\n",
              "</table>\n",
              "<p>3 rows × 21 columns</p>\n",
              "</div>\n",
              "    <div class=\"colab-df-buttons\">\n",
              "\n",
              "  <div class=\"colab-df-container\">\n",
              "    <button class=\"colab-df-convert\" onclick=\"convertToInteractive('df-4d1e2b84-480c-4778-927b-dc03417cace4')\"\n",
              "            title=\"Convert this dataframe to an interactive table.\"\n",
              "            style=\"display:none;\">\n",
              "\n",
              "  <svg xmlns=\"http://www.w3.org/2000/svg\" height=\"24px\" viewBox=\"0 -960 960 960\">\n",
              "    <path d=\"M120-120v-720h720v720H120Zm60-500h600v-160H180v160Zm220 220h160v-160H400v160Zm0 220h160v-160H400v160ZM180-400h160v-160H180v160Zm440 0h160v-160H620v160ZM180-180h160v-160H180v160Zm440 0h160v-160H620v160Z\"/>\n",
              "  </svg>\n",
              "    </button>\n",
              "\n",
              "  <style>\n",
              "    .colab-df-container {\n",
              "      display:flex;\n",
              "      gap: 12px;\n",
              "    }\n",
              "\n",
              "    .colab-df-convert {\n",
              "      background-color: #E8F0FE;\n",
              "      border: none;\n",
              "      border-radius: 50%;\n",
              "      cursor: pointer;\n",
              "      display: none;\n",
              "      fill: #1967D2;\n",
              "      height: 32px;\n",
              "      padding: 0 0 0 0;\n",
              "      width: 32px;\n",
              "    }\n",
              "\n",
              "    .colab-df-convert:hover {\n",
              "      background-color: #E2EBFA;\n",
              "      box-shadow: 0px 1px 2px rgba(60, 64, 67, 0.3), 0px 1px 3px 1px rgba(60, 64, 67, 0.15);\n",
              "      fill: #174EA6;\n",
              "    }\n",
              "\n",
              "    .colab-df-buttons div {\n",
              "      margin-bottom: 4px;\n",
              "    }\n",
              "\n",
              "    [theme=dark] .colab-df-convert {\n",
              "      background-color: #3B4455;\n",
              "      fill: #D2E3FC;\n",
              "    }\n",
              "\n",
              "    [theme=dark] .colab-df-convert:hover {\n",
              "      background-color: #434B5C;\n",
              "      box-shadow: 0px 1px 3px 1px rgba(0, 0, 0, 0.15);\n",
              "      filter: drop-shadow(0px 1px 2px rgba(0, 0, 0, 0.3));\n",
              "      fill: #FFFFFF;\n",
              "    }\n",
              "  </style>\n",
              "\n",
              "    <script>\n",
              "      const buttonEl =\n",
              "        document.querySelector('#df-4d1e2b84-480c-4778-927b-dc03417cace4 button.colab-df-convert');\n",
              "      buttonEl.style.display =\n",
              "        google.colab.kernel.accessAllowed ? 'block' : 'none';\n",
              "\n",
              "      async function convertToInteractive(key) {\n",
              "        const element = document.querySelector('#df-4d1e2b84-480c-4778-927b-dc03417cace4');\n",
              "        const dataTable =\n",
              "          await google.colab.kernel.invokeFunction('convertToInteractive',\n",
              "                                                    [key], {});\n",
              "        if (!dataTable) return;\n",
              "\n",
              "        const docLinkHtml = 'Like what you see? Visit the ' +\n",
              "          '<a target=\"_blank\" href=https://colab.research.google.com/notebooks/data_table.ipynb>data table notebook</a>'\n",
              "          + ' to learn more about interactive tables.';\n",
              "        element.innerHTML = '';\n",
              "        dataTable['output_type'] = 'display_data';\n",
              "        await google.colab.output.renderOutput(dataTable, element);\n",
              "        const docLink = document.createElement('div');\n",
              "        docLink.innerHTML = docLinkHtml;\n",
              "        element.appendChild(docLink);\n",
              "      }\n",
              "    </script>\n",
              "  </div>\n",
              "\n",
              "\n",
              "<div id=\"df-e5951350-41e4-4bbc-a92c-fcfd9f900000\">\n",
              "  <button class=\"colab-df-quickchart\" onclick=\"quickchart('df-e5951350-41e4-4bbc-a92c-fcfd9f900000')\"\n",
              "            title=\"Suggest charts\"\n",
              "            style=\"display:none;\">\n",
              "\n",
              "<svg xmlns=\"http://www.w3.org/2000/svg\" height=\"24px\"viewBox=\"0 0 24 24\"\n",
              "     width=\"24px\">\n",
              "    <g>\n",
              "        <path d=\"M19 3H5c-1.1 0-2 .9-2 2v14c0 1.1.9 2 2 2h14c1.1 0 2-.9 2-2V5c0-1.1-.9-2-2-2zM9 17H7v-7h2v7zm4 0h-2V7h2v10zm4 0h-2v-4h2v4z\"/>\n",
              "    </g>\n",
              "</svg>\n",
              "  </button>\n",
              "\n",
              "<style>\n",
              "  .colab-df-quickchart {\n",
              "      --bg-color: #E8F0FE;\n",
              "      --fill-color: #1967D2;\n",
              "      --hover-bg-color: #E2EBFA;\n",
              "      --hover-fill-color: #174EA6;\n",
              "      --disabled-fill-color: #AAA;\n",
              "      --disabled-bg-color: #DDD;\n",
              "  }\n",
              "\n",
              "  [theme=dark] .colab-df-quickchart {\n",
              "      --bg-color: #3B4455;\n",
              "      --fill-color: #D2E3FC;\n",
              "      --hover-bg-color: #434B5C;\n",
              "      --hover-fill-color: #FFFFFF;\n",
              "      --disabled-bg-color: #3B4455;\n",
              "      --disabled-fill-color: #666;\n",
              "  }\n",
              "\n",
              "  .colab-df-quickchart {\n",
              "    background-color: var(--bg-color);\n",
              "    border: none;\n",
              "    border-radius: 50%;\n",
              "    cursor: pointer;\n",
              "    display: none;\n",
              "    fill: var(--fill-color);\n",
              "    height: 32px;\n",
              "    padding: 0;\n",
              "    width: 32px;\n",
              "  }\n",
              "\n",
              "  .colab-df-quickchart:hover {\n",
              "    background-color: var(--hover-bg-color);\n",
              "    box-shadow: 0 1px 2px rgba(60, 64, 67, 0.3), 0 1px 3px 1px rgba(60, 64, 67, 0.15);\n",
              "    fill: var(--button-hover-fill-color);\n",
              "  }\n",
              "\n",
              "  .colab-df-quickchart-complete:disabled,\n",
              "  .colab-df-quickchart-complete:disabled:hover {\n",
              "    background-color: var(--disabled-bg-color);\n",
              "    fill: var(--disabled-fill-color);\n",
              "    box-shadow: none;\n",
              "  }\n",
              "\n",
              "  .colab-df-spinner {\n",
              "    border: 2px solid var(--fill-color);\n",
              "    border-color: transparent;\n",
              "    border-bottom-color: var(--fill-color);\n",
              "    animation:\n",
              "      spin 1s steps(1) infinite;\n",
              "  }\n",
              "\n",
              "  @keyframes spin {\n",
              "    0% {\n",
              "      border-color: transparent;\n",
              "      border-bottom-color: var(--fill-color);\n",
              "      border-left-color: var(--fill-color);\n",
              "    }\n",
              "    20% {\n",
              "      border-color: transparent;\n",
              "      border-left-color: var(--fill-color);\n",
              "      border-top-color: var(--fill-color);\n",
              "    }\n",
              "    30% {\n",
              "      border-color: transparent;\n",
              "      border-left-color: var(--fill-color);\n",
              "      border-top-color: var(--fill-color);\n",
              "      border-right-color: var(--fill-color);\n",
              "    }\n",
              "    40% {\n",
              "      border-color: transparent;\n",
              "      border-right-color: var(--fill-color);\n",
              "      border-top-color: var(--fill-color);\n",
              "    }\n",
              "    60% {\n",
              "      border-color: transparent;\n",
              "      border-right-color: var(--fill-color);\n",
              "    }\n",
              "    80% {\n",
              "      border-color: transparent;\n",
              "      border-right-color: var(--fill-color);\n",
              "      border-bottom-color: var(--fill-color);\n",
              "    }\n",
              "    90% {\n",
              "      border-color: transparent;\n",
              "      border-bottom-color: var(--fill-color);\n",
              "    }\n",
              "  }\n",
              "</style>\n",
              "\n",
              "  <script>\n",
              "    async function quickchart(key) {\n",
              "      const quickchartButtonEl =\n",
              "        document.querySelector('#' + key + ' button');\n",
              "      quickchartButtonEl.disabled = true;  // To prevent multiple clicks.\n",
              "      quickchartButtonEl.classList.add('colab-df-spinner');\n",
              "      try {\n",
              "        const charts = await google.colab.kernel.invokeFunction(\n",
              "            'suggestCharts', [key], {});\n",
              "      } catch (error) {\n",
              "        console.error('Error during call to suggestCharts:', error);\n",
              "      }\n",
              "      quickchartButtonEl.classList.remove('colab-df-spinner');\n",
              "      quickchartButtonEl.classList.add('colab-df-quickchart-complete');\n",
              "    }\n",
              "    (() => {\n",
              "      let quickchartButtonEl =\n",
              "        document.querySelector('#df-e5951350-41e4-4bbc-a92c-fcfd9f900000 button');\n",
              "      quickchartButtonEl.style.display =\n",
              "        google.colab.kernel.accessAllowed ? 'block' : 'none';\n",
              "    })();\n",
              "  </script>\n",
              "</div>\n",
              "    </div>\n",
              "  </div>\n"
            ],
            "application/vnd.google.colaboratory.intrinsic+json": {
              "type": "dataframe",
              "variable_name": "total_df"
            }
          },
          "metadata": {},
          "execution_count": 17
        }
      ]
    },
    {
      "cell_type": "code",
      "source": [
        "total_df.shape"
      ],
      "metadata": {
        "colab": {
          "base_uri": "https://localhost:8080/"
        },
        "id": "VpwNS8slEmGC",
        "outputId": "16321fe1-97f8-4cd6-93fd-0dda62dc0c76"
      },
      "id": "VpwNS8slEmGC",
      "execution_count": 18,
      "outputs": [
        {
          "output_type": "execute_result",
          "data": {
            "text/plain": [
              "(47594, 21)"
            ]
          },
          "metadata": {},
          "execution_count": 18
        }
      ]
    },
    {
      "cell_type": "code",
      "execution_count": 19,
      "id": "5331a23b",
      "metadata": {
        "id": "5331a23b"
      },
      "outputs": [],
      "source": [
        "# удаляем дубли (одинаковые ссылки)\n",
        "total_df = total_df.drop_duplicates('href')"
      ]
    },
    {
      "cell_type": "code",
      "execution_count": 20,
      "id": "1fe8c66e",
      "metadata": {
        "colab": {
          "base_uri": "https://localhost:8080/"
        },
        "id": "1fe8c66e",
        "outputId": "484b096b-a38b-40bd-a056-6474c1434e26"
      },
      "outputs": [
        {
          "output_type": "execute_result",
          "data": {
            "text/plain": [
              "47496"
            ]
          },
          "metadata": {},
          "execution_count": 20
        }
      ],
      "source": [
        "# оцениваем объем собранной экспозиции\n",
        "total_df.shape[0]"
      ]
    },
    {
      "cell_type": "code",
      "execution_count": 21,
      "id": "f2c6bbb7",
      "metadata": {
        "colab": {
          "base_uri": "https://localhost:8080/"
        },
        "id": "f2c6bbb7",
        "outputId": "3510d34b-94d3-4c80-8387-5a5de7434907"
      },
      "outputs": [
        {
          "output_type": "execute_result",
          "data": {
            "text/plain": [
              "district\n",
              "ЦАО      8373\n",
              "ЗАО      7395\n",
              "САО      5246\n",
              "ЮАО      4910\n",
              "ЮВАО     4515\n",
              "ЮЗАО     4400\n",
              "СВАО     4140\n",
              "ВАО      4005\n",
              "СЗАО     3929\n",
              "ЗелАО     583\n",
              "Name: count, dtype: int64"
            ]
          },
          "metadata": {},
          "execution_count": 21
        }
      ],
      "source": [
        "# оцениваем распределение количества лотов по округам\n",
        "total_df['district'].value_counts(dropna=False)"
      ]
    },
    {
      "cell_type": "code",
      "execution_count": 22,
      "id": "7334f69a",
      "metadata": {
        "colab": {
          "base_uri": "https://localhost:8080/"
        },
        "id": "7334f69a",
        "outputId": "0607c955-4474-4874-91d6-b4558d8eeb4d"
      },
      "outputs": [
        {
          "output_type": "execute_result",
          "data": {
            "text/plain": [
              "district\n",
              "ЦАО      0.176289\n",
              "ЗАО      0.155697\n",
              "САО      0.110451\n",
              "ЮАО      0.103377\n",
              "ЮВАО     0.095061\n",
              "ЮЗАО     0.092639\n",
              "СВАО     0.087165\n",
              "ВАО      0.084323\n",
              "СЗАО     0.082723\n",
              "ЗелАО    0.012275\n",
              "Name: proportion, dtype: float64"
            ]
          },
          "metadata": {},
          "execution_count": 22
        }
      ],
      "source": [
        "# оцениваем процентное распределение экспозиции по округам\n",
        "total_df['district'].value_counts(dropna=False, normalize=True)"
      ]
    },
    {
      "cell_type": "code",
      "execution_count": 23,
      "id": "10ccabdb",
      "metadata": {
        "scrolled": true,
        "id": "10ccabdb"
      },
      "outputs": [],
      "source": [
        "# удаляем из выгрузки доли и частные дома\n",
        "ind_del = []\n",
        "count = 0\n",
        "for i in total_df[total_df['description'].isna()==False]['description'].to_list():\n",
        "    if 'доля' in i.lower() and ('не доля' not in i.lower() and 'в равных долях' not in i.lower() and \\\n",
        "        'наделены долями' not in i.lower() and 'доля в праве' not in i.lower() and 'по документам-доля' not in i.lower() and \\\n",
        "        'доля в общем числе' not in i.lower() and 'прилагается доля' not in i.lower() and 'доля продается вместе с квартирой' \\\n",
        "        not in i.lower() and 'по документам проходит как доля' not in i.lower() and 'по документам доля' not in i.lower() and \\\n",
        "        'реализуется как доля' not in i.lower() and 'доля нежилого помещения' not in i.lower() and 'доля по документам' \\\n",
        "                               not in i.lower()):\n",
        "\n",
        "            ind = total_df[total_df['description']==i].index.to_list()\n",
        "            ind_del+=ind\n",
        "\n",
        "            count+=1\n",
        "\n",
        "for i in total_df[total_df['description'].isna()==False]['description'].to_list():\n",
        "    for tw in ['торги', 'аукцион', 'печное', 'деревянный дом', 'туалет на улице']:\n",
        "        if tw in i.lower() and 'не торги' not in i.lower() and 'не аукцион' not in i.lower() and 'аукциона нет' \\\n",
        "                not in i.lower() and 'куплены на аукционе' not in i.lower() and 'торг уместен' not in i.lower() and \\\n",
        "                'на аукционах' not in i.lower():\n",
        "\n",
        "            ind = total_df[total_df['description']==i].index.to_list()\n",
        "            ind_del+=ind\n",
        "\n",
        "            count+=1\n",
        "\n",
        "total_df = total_df.drop(list(set(ind_del)))\n",
        "total_df = total_df.reset_index()\n",
        "\n",
        "# в целях предосторожности, добавляем второй бэкап\n",
        "df_backup_2 = total_df"
      ]
    },
    {
      "cell_type": "code",
      "source": [
        "total_df.shape"
      ],
      "metadata": {
        "colab": {
          "base_uri": "https://localhost:8080/"
        },
        "id": "xYR0Hrd7FPQP",
        "outputId": "44d65ad5-c32f-494b-a570-4e25b81fc64f"
      },
      "id": "xYR0Hrd7FPQP",
      "execution_count": 24,
      "outputs": [
        {
          "output_type": "execute_result",
          "data": {
            "text/plain": [
              "(47207, 22)"
            ]
          },
          "metadata": {},
          "execution_count": 24
        }
      ]
    },
    {
      "cell_type": "code",
      "execution_count": 25,
      "id": "30333c6f",
      "metadata": {
        "colab": {
          "base_uri": "https://localhost:8080/",
          "height": 99
        },
        "id": "30333c6f",
        "outputId": "e0d98639-f7e8-4821-eb38-76af9ce4240d"
      },
      "outputs": [
        {
          "output_type": "execute_result",
          "data": {
            "text/plain": [
              "Empty DataFrame\n",
              "Columns: [index, project, metro, distance_to_metro, adress, title, ready, ready_main, description, room_type, square, floor, tag_info, gallery_tag, price, price_per_metre, seller_type, seller_name, date, time, href, district]\n",
              "Index: []\n",
              "\n",
              "[0 rows x 22 columns]"
            ],
            "text/html": [
              "\n",
              "  <div id=\"df-3f2f571e-ba37-4a54-b218-4c6b771edf9b\" class=\"colab-df-container\">\n",
              "    <div>\n",
              "<style scoped>\n",
              "    .dataframe tbody tr th:only-of-type {\n",
              "        vertical-align: middle;\n",
              "    }\n",
              "\n",
              "    .dataframe tbody tr th {\n",
              "        vertical-align: top;\n",
              "    }\n",
              "\n",
              "    .dataframe thead th {\n",
              "        text-align: right;\n",
              "    }\n",
              "</style>\n",
              "<table border=\"1\" class=\"dataframe\">\n",
              "  <thead>\n",
              "    <tr style=\"text-align: right;\">\n",
              "      <th></th>\n",
              "      <th>index</th>\n",
              "      <th>project</th>\n",
              "      <th>metro</th>\n",
              "      <th>distance_to_metro</th>\n",
              "      <th>adress</th>\n",
              "      <th>title</th>\n",
              "      <th>ready</th>\n",
              "      <th>ready_main</th>\n",
              "      <th>description</th>\n",
              "      <th>room_type</th>\n",
              "      <th>...</th>\n",
              "      <th>tag_info</th>\n",
              "      <th>gallery_tag</th>\n",
              "      <th>price</th>\n",
              "      <th>price_per_metre</th>\n",
              "      <th>seller_type</th>\n",
              "      <th>seller_name</th>\n",
              "      <th>date</th>\n",
              "      <th>time</th>\n",
              "      <th>href</th>\n",
              "      <th>district</th>\n",
              "    </tr>\n",
              "  </thead>\n",
              "  <tbody>\n",
              "  </tbody>\n",
              "</table>\n",
              "<p>0 rows × 22 columns</p>\n",
              "</div>\n",
              "    <div class=\"colab-df-buttons\">\n",
              "\n",
              "  <div class=\"colab-df-container\">\n",
              "    <button class=\"colab-df-convert\" onclick=\"convertToInteractive('df-3f2f571e-ba37-4a54-b218-4c6b771edf9b')\"\n",
              "            title=\"Convert this dataframe to an interactive table.\"\n",
              "            style=\"display:none;\">\n",
              "\n",
              "  <svg xmlns=\"http://www.w3.org/2000/svg\" height=\"24px\" viewBox=\"0 -960 960 960\">\n",
              "    <path d=\"M120-120v-720h720v720H120Zm60-500h600v-160H180v160Zm220 220h160v-160H400v160Zm0 220h160v-160H400v160ZM180-400h160v-160H180v160Zm440 0h160v-160H620v160ZM180-180h160v-160H180v160Zm440 0h160v-160H620v160Z\"/>\n",
              "  </svg>\n",
              "    </button>\n",
              "\n",
              "  <style>\n",
              "    .colab-df-container {\n",
              "      display:flex;\n",
              "      gap: 12px;\n",
              "    }\n",
              "\n",
              "    .colab-df-convert {\n",
              "      background-color: #E8F0FE;\n",
              "      border: none;\n",
              "      border-radius: 50%;\n",
              "      cursor: pointer;\n",
              "      display: none;\n",
              "      fill: #1967D2;\n",
              "      height: 32px;\n",
              "      padding: 0 0 0 0;\n",
              "      width: 32px;\n",
              "    }\n",
              "\n",
              "    .colab-df-convert:hover {\n",
              "      background-color: #E2EBFA;\n",
              "      box-shadow: 0px 1px 2px rgba(60, 64, 67, 0.3), 0px 1px 3px 1px rgba(60, 64, 67, 0.15);\n",
              "      fill: #174EA6;\n",
              "    }\n",
              "\n",
              "    .colab-df-buttons div {\n",
              "      margin-bottom: 4px;\n",
              "    }\n",
              "\n",
              "    [theme=dark] .colab-df-convert {\n",
              "      background-color: #3B4455;\n",
              "      fill: #D2E3FC;\n",
              "    }\n",
              "\n",
              "    [theme=dark] .colab-df-convert:hover {\n",
              "      background-color: #434B5C;\n",
              "      box-shadow: 0px 1px 3px 1px rgba(0, 0, 0, 0.15);\n",
              "      filter: drop-shadow(0px 1px 2px rgba(0, 0, 0, 0.3));\n",
              "      fill: #FFFFFF;\n",
              "    }\n",
              "  </style>\n",
              "\n",
              "    <script>\n",
              "      const buttonEl =\n",
              "        document.querySelector('#df-3f2f571e-ba37-4a54-b218-4c6b771edf9b button.colab-df-convert');\n",
              "      buttonEl.style.display =\n",
              "        google.colab.kernel.accessAllowed ? 'block' : 'none';\n",
              "\n",
              "      async function convertToInteractive(key) {\n",
              "        const element = document.querySelector('#df-3f2f571e-ba37-4a54-b218-4c6b771edf9b');\n",
              "        const dataTable =\n",
              "          await google.colab.kernel.invokeFunction('convertToInteractive',\n",
              "                                                    [key], {});\n",
              "        if (!dataTable) return;\n",
              "\n",
              "        const docLinkHtml = 'Like what you see? Visit the ' +\n",
              "          '<a target=\"_blank\" href=https://colab.research.google.com/notebooks/data_table.ipynb>data table notebook</a>'\n",
              "          + ' to learn more about interactive tables.';\n",
              "        element.innerHTML = '';\n",
              "        dataTable['output_type'] = 'display_data';\n",
              "        await google.colab.output.renderOutput(dataTable, element);\n",
              "        const docLink = document.createElement('div');\n",
              "        docLink.innerHTML = docLinkHtml;\n",
              "        element.appendChild(docLink);\n",
              "      }\n",
              "    </script>\n",
              "  </div>\n",
              "\n",
              "    </div>\n",
              "  </div>\n"
            ],
            "application/vnd.google.colaboratory.intrinsic+json": {
              "type": "dataframe"
            }
          },
          "metadata": {},
          "execution_count": 25
        }
      ],
      "source": [
        "# вручную корректируем несчитавшиеся площади (либо удаляем их)\n",
        "total_df[total_df['square']==0]"
      ]
    },
    {
      "cell_type": "code",
      "execution_count": 26,
      "id": "43ebba39",
      "metadata": {
        "id": "43ebba39"
      },
      "outputs": [],
      "source": [
        "'''\n",
        "набор функций для обработки данных, полученных в результате парсинга\n",
        "функция принимает значение столбца адрем ('adress') и возвращает название района ('area')\n",
        "'''\n",
        "def find_the_area(x):\n",
        "    if 'район' in x:\n",
        "        for i in x.split(','):\n",
        "            if 'район' in i:\n",
        "                return ''.join(i.split('район')).strip()\n",
        "    if 'р-н' in x:\n",
        "        for i in x.split(','):\n",
        "            if 'р-н' in i:\n",
        "                return 'р-н '+''.join(i.split('р-н')).strip()\n",
        "    if 'мкр' in x:\n",
        "        for i in x.split(','):\n",
        "            if 'мкр' in i:\n",
        "                return ''.join(i.split('мкр')).strip().strip('.').strip()\n",
        "\n",
        "'''\n",
        "функция принимает значение столбца заголовка ('title') и возвращает срок сдачи корпуса ('ready')\n",
        "'''\n",
        "\n",
        "def find_the_stadium(x):\n",
        "    x = x.lower()\n",
        "    if 'сдача корпуса' in x:\n",
        "        ind = x.find('сдача корпуса')\n",
        "        return x[ind+13:].strip()\n",
        "    if 'сдан' in x:\n",
        "        return 'сдан'\n",
        "\n",
        "'''\n",
        "функция принимает значение столбца заголовка ('title') и возвращает комнатность лота ('room_type')\n",
        "'''\n",
        "\n",
        "def find_the_roomtype(x):\n",
        "    x = x.lower()\n",
        "    for i in ['1-комн. квартира', '2-комн. квартира', '3-комн. квартира', '4-комн. квартира', '5-комн. квартира', \\\n",
        "              '6-комн. квартира', 'студия', '1-комн. апартаменты', '2-комн. апартаменты', '3-комн. апартаменты', \\\n",
        "              '4-комн. апартаменты', '5-комн. апартаменты', '6-комн. апартаменты',\\\n",
        "              'своб. планировка']:\n",
        "        if i in x:\n",
        "            return i\n",
        "\n",
        "'''\n",
        "функция принимает значение столбца комнатности ('room_type') и возвращает его в числовом формате (int)\n",
        "'''\n",
        "\n",
        "def find_the_roomtype_int(x):\n",
        "    x = x.lower()\n",
        "    if 'студия' in x:\n",
        "        return 'студия'\n",
        "    if '1-комн' in x:\n",
        "        return 1\n",
        "    if '2-комн' in x:\n",
        "        return 2\n",
        "    if 'своб. планировка' in x:\n",
        "        return 'своб. планировка'\n",
        "    if '3-комн' in x:\n",
        "        return 3\n",
        "    if '4-комн' in x:\n",
        "        return 4\n",
        "\n",
        "'''\n",
        "функция принимает значение столбца заголовка ('title') и возвращает номер (название) секции ('section')\n",
        "'''\n",
        "\n",
        "def find_the_section(x):\n",
        "    if 'Секция Секция' in x:\n",
        "        ind = x.find('Секция Секция')\n",
        "        return x[ind+14]\n",
        "    elif 'Секция' in x:\n",
        "        x = x.split()\n",
        "        for i in x:\n",
        "            if 'Секция' in i:\n",
        "                ind = x.index(i)\n",
        "                return x[ind+1]\n",
        ""
      ]
    },
    {
      "cell_type": "code",
      "execution_count": 27,
      "id": "2584f140",
      "metadata": {
        "colab": {
          "base_uri": "https://localhost:8080/"
        },
        "id": "2584f140",
        "outputId": "9eda6981-f51a-437c-d2c5-f96bf06e8972"
      },
      "outputs": [
        {
          "output_type": "execute_result",
          "data": {
            "text/plain": [
              "seller_type\n",
              "Агентство недвижимости    25333\n",
              "Риелтор                   13827\n",
              "Собственник                5250\n",
              "NaN                        2694\n",
              "Ук・оф.Представитель          85\n",
              "Отдел аренды                 18\n",
              "Name: count, dtype: int64"
            ]
          },
          "metadata": {},
          "execution_count": 27
        }
      ],
      "source": [
        "# оцениваем распределение типов продавцов\n",
        "total_df['seller_type'].value_counts(dropna=False)"
      ]
    },
    {
      "cell_type": "code",
      "source": [
        "# стандартизируем типы данных в столбцах\n",
        "\n",
        "for i in total_df.columns:\n",
        "  if total_df[i].dtype == 'object':\n",
        "    total_df.loc[(total_df[i].isna()), i] = 'нет данных'"
      ],
      "metadata": {
        "id": "WBPy5sSMHg9R"
      },
      "id": "WBPy5sSMHg9R",
      "execution_count": 28,
      "outputs": []
    },
    {
      "cell_type": "code",
      "execution_count": 29,
      "id": "a941527f",
      "metadata": {
        "scrolled": true,
        "colab": {
          "base_uri": "https://localhost:8080/"
        },
        "id": "a941527f",
        "outputId": "d056ab82-8be2-4e55-d4cd-e64cd0690036"
      },
      "outputs": [
        {
          "output_type": "execute_result",
          "data": {
            "text/plain": [
              "flat_type\n",
              "квартира       41371\n",
              "апартаменты     5427\n",
              "нет данных       409\n",
              "Name: count, dtype: int64"
            ]
          },
          "metadata": {},
          "execution_count": 29
        }
      ],
      "source": [
        "# определяем (по возможности) тип помещения (апартаменты/квартира), и оцениваем их распределение\n",
        "total_df['flat_type'] = total_df['description'].map(lambda x:'апартаменты' if 'апартамент' in x.lower() else \\\n",
        "                                                ('квартира' if 'квартир' in x.lower() else 'нет данных'))\n",
        "\n",
        "total_df.loc[(total_df['flat_type']=='нет данных'), 'flat_type'] = \\\n",
        "total_df.loc[(total_df['flat_type']=='нет данных'), 'title'].map(lambda x:'апартаменты' if 'апартамент' in x.lower() else \\\n",
        "                                                ('квартира' if 'квартир' in x.lower() else 'нет данных'))\n",
        "\n",
        "total_df['flat_type'].value_counts(dropna=False)"
      ]
    },
    {
      "cell_type": "code",
      "execution_count": 30,
      "id": "510f381f",
      "metadata": {
        "colab": {
          "base_uri": "https://localhost:8080/"
        },
        "id": "510f381f",
        "outputId": "b9ce754f-bf3a-41e8-e4d1-2413f5cd5dec"
      },
      "outputs": [
        {
          "output_type": "execute_result",
          "data": {
            "text/plain": [
              "room_type\n",
              "2-комн. квартира       13508\n",
              "3-комн. квартира       11388\n",
              "1-комн. квартира        9288\n",
              "4-комн. квартира        3767\n",
              "студия                  2609\n",
              "2-комн. апартаменты     1422\n",
              "5-комн. квартира        1323\n",
              "3-комн. апартаменты     1010\n",
              "1-комн. апартаменты      892\n",
              "6-комн. квартира         814\n",
              "своб. планировка         511\n",
              "4-комн. апартаменты      282\n",
              "None                     234\n",
              "5-комн. апартаменты       84\n",
              "6-комн. апартаменты       75\n",
              "Name: count, dtype: int64"
            ]
          },
          "metadata": {},
          "execution_count": 30
        }
      ],
      "source": [
        "# определяем типы комнатности и оцениваем их распределение по рынку\n",
        "total_df['room_type'] = total_df['title'].map(lambda x: find_the_roomtype(x))\n",
        "total_df['room_type'].value_counts(dropna=False)"
      ]
    },
    {
      "cell_type": "code",
      "execution_count": 31,
      "id": "d39ea4c9",
      "metadata": {
        "id": "d39ea4c9"
      },
      "outputs": [],
      "source": [
        "# типы комнатности, которые не удалось определить, скорее всего являются долями, которое мы удаляем\n",
        "del_list_2 = total_df[total_df['room_type'].isna()].index.to_list()\n",
        "total_df = total_df.drop(list(set(del_list_2)))\n",
        "total_df = total_df.reset_index()"
      ]
    },
    {
      "cell_type": "code",
      "execution_count": 32,
      "id": "da74b6a2",
      "metadata": {
        "scrolled": true,
        "id": "da74b6a2"
      },
      "outputs": [],
      "source": [
        "# выделяем для каждого лота секцию, отделку, район, стадию строительной готовности (по возможности)\n",
        "# также, стоит отдельно выделить номера этажей и типов комнатности в формате int, что более удобно для анализа\n",
        "total_df['section'] = total_df['title'].map(lambda x:find_the_section(x))\n",
        "total_df['decor'] = total_df['tag_info'].map(lambda x:'с отделкой' if 'с отделкой' in x.lower() else None)\n",
        "total_df['area'] = total_df['adress'].map(lambda x:find_the_area(x))\n",
        "total_df['ready'] = total_df['title'].map(lambda x:find_the_stadium(x))\n",
        "total_df['room_type_int'] = total_df['title'].map(lambda x:find_the_roomtype_int(x))\n",
        "total_df['floor_int'] = total_df['floor'].map(lambda x:int(x.split('/')[0]))"
      ]
    },
    {
      "cell_type": "code",
      "execution_count": 33,
      "id": "7f95e82c",
      "metadata": {
        "id": "7f95e82c"
      },
      "outputs": [],
      "source": [
        "# удаляем все лоты, выставленные на электронных торгах и аукционах, т.к. указанная для них цена, скорее всего, нерелевантна\n",
        "total_df = total_df[total_df['gallery_tag']!='Электронные торги']\n",
        "total_df = total_df[total_df['gallery_tag']!='Аукцион']"
      ]
    },
    {
      "cell_type": "code",
      "execution_count": 34,
      "id": "637f09f2",
      "metadata": {
        "colab": {
          "base_uri": "https://localhost:8080/"
        },
        "id": "637f09f2",
        "outputId": "105db33c-865c-4e2d-b521-2753e6887882"
      },
      "outputs": [
        {
          "output_type": "execute_result",
          "data": {
            "text/plain": [
              "array(['нет данных; нет данных', 'Хорошая цена; нет данных',\n",
              "       'Хорошая цена, Проверено в Росреестре; нет данных',\n",
              "       'Только на Циан; нет данных',\n",
              "       'Только на Циан, Проверено в Росреестре; нет данных',\n",
              "       'Хорошая цена, Только на Циан; нет данных',\n",
              "       'Проверено в Росреестре; нет данных',\n",
              "       'Хорошая цена, Только на Циан, Проверено в Росреестре; нет данных',\n",
              "       'Хорошая цена, Только на Циан, Проверено в Росреестре, Аукцион; Электронные торги в коммерции',\n",
              "       'Только на Циан, Проверено в Росреестре, Аукцион; Электронные торги в коммерции',\n",
              "       'Хорошая цена; От банка, с обременением',\n",
              "       'Проверено в Росреестре, Аукцион; нет данных',\n",
              "       'Хорошая цена, Только на Циан, Аукцион; Электронные торги в коммерции',\n",
              "       'Аукцион; Электронные торги в коммерции',\n",
              "       'нет данных; От банка, с обременением', 'Аукцион; нет данных',\n",
              "       'Хорошая цена, Только на Циан, Двушка той же площади; нет данных',\n",
              "       'Хорошая цена, Проверено в Росреестре, Аукцион; Электронные торги в коммерции'],\n",
              "      dtype=object)"
            ]
          },
          "metadata": {},
          "execution_count": 34
        }
      ],
      "source": [
        "# перезаписываем все тэги в один столбец\n",
        "total_df.loc[(total_df['gallery_tag'].isna()), 'gallery_tag'] = ''\n",
        "total_df.loc[(total_df['tag_info'].isna()), 'tag_info'] = ''\n",
        "\n",
        "total_df['tag'] = total_df['tag_info']+'; '+total_df['gallery_tag']\n",
        "\n",
        "total_df['tag'] = total_df['tag'].map(lambda x: x.strip().strip(';'))\n",
        "\n",
        "total_df['tag'].unique()"
      ]
    },
    {
      "cell_type": "code",
      "execution_count": 35,
      "id": "9bf9e3f2",
      "metadata": {
        "scrolled": true,
        "id": "9bf9e3f2"
      },
      "outputs": [],
      "source": [
        "# переименовываем столбцы\n",
        "total_df.columns = ['level_0', 'index', 'проект', 'метро', 'время до метро', 'адрес', 'заголовок', \\\n",
        "                    'стадия строительной готовности', \\\n",
        "                    'стадия строительной готовности (главный корпус)', 'описание', 'тип комнатности', 'площадь', \\\n",
        "                    'этаж', 'tag_info', 'gallery_tag', 'цена', 'цена за квадратный метр', 'продавец (тип)', \\\n",
        "                    'продавец (имя)', 'дата публикации объявления', 'время публикации объявления', 'ссылка', 'округ', \\\n",
        "                   'тип помещения', 'секция', 'отделка', 'район', 'тип комнатности (цифрой)', 'этаж (цифрой)', 'особенности']"
      ]
    },
    {
      "cell_type": "code",
      "execution_count": 36,
      "id": "4e444bb8",
      "metadata": {
        "id": "4e444bb8"
      },
      "outputs": [],
      "source": [
        "# пересобираем датасет\n",
        "total_df = total_df[['округ', 'проект', 'район', 'метро', 'время до метро', 'адрес', 'стадия строительной готовности', \\\n",
        "       'стадия строительной готовности (главный корпус)', 'заголовок', 'описание', 'особенности', 'тип помещения', 'секция', \\\n",
        "        'тип комнатности', 'тип комнатности (цифрой)', 'площадь', 'этаж', 'этаж (цифрой)', 'отделка', \\\n",
        "        'цена', 'цена за квадратный метр', 'продавец (тип)', 'продавец (имя)', \\\n",
        "                         'дата публикации объявления', 'время публикации объявления', 'ссылка']]"
      ]
    },
    {
      "cell_type": "code",
      "source": [
        "total_df = total_df.reset_index()"
      ],
      "metadata": {
        "id": "h4WUMSquJpH5"
      },
      "id": "h4WUMSquJpH5",
      "execution_count": 37,
      "outputs": []
    },
    {
      "cell_type": "code",
      "execution_count": 38,
      "id": "a091c784",
      "metadata": {
        "id": "a091c784"
      },
      "outputs": [],
      "source": [
        "# сохраняем датасет в формате excel\n",
        "total_df.to_excel('парсинг_вторичка_Старая Москва.xlsx')"
      ]
    },
    {
      "cell_type": "markdown",
      "source": [
        "## 3. Построение ML модели\n"
      ],
      "metadata": {
        "id": "CqJkT1E0UoLy"
      },
      "id": "CqJkT1E0UoLy"
    },
    {
      "cell_type": "code",
      "source": [
        "# считываем датасет\n",
        "df = pd.read_excel('парсинг_вторичка_Старая Москва.xlsx', index_col=[0])"
      ],
      "metadata": {
        "id": "IBwlh36pVtvx"
      },
      "id": "IBwlh36pVtvx",
      "execution_count": 39,
      "outputs": []
    },
    {
      "cell_type": "code",
      "execution_count": 40,
      "id": "4a5d49c3",
      "metadata": {
        "colab": {
          "base_uri": "https://localhost:8080/"
        },
        "id": "4a5d49c3",
        "outputId": "9a66965c-044a-41db-a268-78b1f3ff56da"
      },
      "outputs": [
        {
          "output_type": "execute_result",
          "data": {
            "text/plain": [
              "время до метро\n",
              "10 минут пешком            3375\n",
              "8 минут пешком             3249\n",
              "7 минут пешком             3117\n",
              "6 минут пешком             3070\n",
              "9 минут пешком             2986\n",
              "12 минут пешком            2728\n",
              "11 минут пешком            2634\n",
              "5 минут пешком             2523\n",
              "13 минут пешком            2108\n",
              "4 минуты пешком            2076\n",
              "15 минут пешком            2065\n",
              "14 минут пешком            1917\n",
              "5 минут на транспорте      1808\n",
              "3 минуты пешком            1789\n",
              "4 минуты на транспорте     1637\n",
              "16 минут пешком            1444\n",
              "2 минуты пешком            1386\n",
              "17 минут пешком            1135\n",
              "18 минут пешком             993\n",
              "19 минут пешком             975\n",
              "6 минут на транспорте       806\n",
              "20 минут пешком             791\n",
              "1 минута пешком             617\n",
              "3 минуты на транспорте      428\n",
              "7 минут на транспорте       394\n",
              "8 минут на транспорте       321\n",
              "9 минут на транспорте       201\n",
              "10 минут на транспорте      185\n",
              "11 минут на транспорте       76\n",
              "2 минуты на транспорте       48\n",
              "12 минут на транспорте       25\n",
              "15 минут на транспорте       13\n",
              "1 минута на транспорте       12\n",
              "13 минут на транспорте        8\n",
              "14 минут на транспорте        6\n",
              "25 минут на транспорте        5\n",
              "26 минут на транспорте        2\n",
              "30 минут на транспорте        2\n",
              "29 минут на транспорте        2\n",
              "20 минут на транспорте        2\n",
              "40 минут на транспорте        2\n",
              "24 минуты на транспорте       1\n",
              "36 минут на транспорте        1\n",
              "Маленковская                  1\n",
              "28 минут на транспорте        1\n",
              "27 минут на транспорте        1\n",
              "Окружная                      1\n",
              "18 минут на транспорте        1\n",
              "60 минут на транспорте        1\n",
              "16 минут на транспорте        1\n",
              "37 минут на транспорте        1\n",
              "35 минут на транспорте        1\n",
              "Name: count, dtype: int64"
            ]
          },
          "metadata": {},
          "execution_count": 40
        }
      ],
      "source": [
        "df['время до метро'].value_counts(dropna=False)"
      ]
    },
    {
      "cell_type": "code",
      "execution_count": 41,
      "id": "974654ef",
      "metadata": {
        "id": "974654ef"
      },
      "outputs": [],
      "source": [
        "# возможно, есть смысл разделить время до метро на цифру и транспорт/пешком\n",
        "df['время до метро (цифрой)'] = df['время до метро'].map(lambda x:int(x.split()[0]) if (x.split()[0]).isdigit() \\\n",
        "                                                         else 'нет данных')\n",
        "df['время до метро (способ)'] = df['время до метро'].map(lambda x:'транспорт' if 'на транспорте' in x else \\\n",
        "                                                         ('пешком' if 'пешком' in x else 'нет данных'))\n",
        "df = df[df['время до метро (цифрой)']!='нет данных']"
      ]
    },
    {
      "cell_type": "code",
      "execution_count": 42,
      "id": "0808bcaf",
      "metadata": {
        "colab": {
          "base_uri": "https://localhost:8080/"
        },
        "id": "0808bcaf",
        "outputId": "c81e8e87-9677-4cfd-d48c-8a7f609c792d"
      },
      "outputs": [
        {
          "output_type": "execute_result",
          "data": {
            "text/plain": [
              "array([13, 6, 8, 9, 5, 12, 4, 3, 14, 15, 10, 17, 11, 20, 18, 7, 16, 2, 19,\n",
              "       1, 36, 24, 25, 29, 28, 27, 30, 60, 26, 37, 35, 40], dtype=object)"
            ]
          },
          "metadata": {},
          "execution_count": 42
        }
      ],
      "source": [
        "df['время до метро (цифрой)'].unique()"
      ]
    },
    {
      "cell_type": "code",
      "execution_count": 43,
      "id": "650667c9",
      "metadata": {
        "colab": {
          "base_uri": "https://localhost:8080/"
        },
        "id": "650667c9",
        "outputId": "ccada36c-50fb-48dc-936b-21b004a500a2"
      },
      "outputs": [
        {
          "output_type": "execute_result",
          "data": {
            "text/plain": [
              "время до метро (способ)\n",
              "пешком       40978\n",
              "транспорт     5992\n",
              "Name: count, dtype: int64"
            ]
          },
          "metadata": {},
          "execution_count": 43
        }
      ],
      "source": [
        "df['время до метро (способ)'].value_counts(dropna=False)"
      ]
    },
    {
      "cell_type": "code",
      "source": [
        "'''\n",
        "функция для разбиения расстояния до метро на интервалы\n",
        "принимает расстояние до метро (количество минут в пути)\n",
        "возвращает название группы (интервал)\n",
        "'''\n",
        "def cut_the_group(x):\n",
        "\n",
        "  if str(x).isdigit():\n",
        "    x = int(x)\n",
        "    for i, j in enumerate(cut_bins[:-1]):\n",
        "          my_min = j\n",
        "          my_max = cut_bins[i+1]\n",
        "          if my_min<x<=my_max:\n",
        "            return str(my_min)+' - '+str(my_max)\n",
        "  return 'нет данных'"
      ],
      "metadata": {
        "id": "dFPxUTJIacM4"
      },
      "id": "dFPxUTJIacM4",
      "execution_count": 44,
      "outputs": []
    },
    {
      "cell_type": "code",
      "source": [
        "# разбиваем расстояние до метро на группы\n",
        "\n",
        "df['время до метро (группа)'] = None\n",
        "\n",
        "cut_bins = [0, 5, 10, 15, 20, 30, 100]\n",
        "\n",
        "for way in ['пешком', 'транспорт']:\n",
        "  df.loc[(df['время до метро (способ)']==way), 'время до метро (группа)'] = \\\n",
        "  df.loc[(df['время до метро (способ)']==way), 'время до метро (цифрой)'].map(lambda x: cut_the_group(x)+' '+way)"
      ],
      "metadata": {
        "id": "nPCIMeLmYBZS"
      },
      "id": "nPCIMeLmYBZS",
      "execution_count": 45,
      "outputs": []
    },
    {
      "cell_type": "code",
      "source": [
        "# выделяем этажность дома\n",
        "df['этажность дома'] = df['этаж'].map(lambda x:int(x.split('/')[-1]))"
      ],
      "metadata": {
        "id": "cjI09DaJdvw4"
      },
      "id": "cjI09DaJdvw4",
      "execution_count": 46,
      "outputs": []
    },
    {
      "cell_type": "code",
      "source": [
        "# оцениваем выбросы\n",
        "q1 = df['цена за квадратный метр'].quantile(0.93)\n",
        "q2 = df['цена за квадратный метр'].quantile(0.07)"
      ],
      "metadata": {
        "id": "GKW26gid4Ia_"
      },
      "id": "GKW26gid4Ia_",
      "execution_count": 109,
      "outputs": []
    },
    {
      "cell_type": "code",
      "source": [
        "sns.boxplot(df[df['цена за квадратный метр'].between(q2, q1)]['цена за квадратный метр'])"
      ],
      "metadata": {
        "colab": {
          "base_uri": "https://localhost:8080/",
          "height": 428
        },
        "id": "gM3W_Wt-28Bj",
        "outputId": "3069f9ec-4634-478c-96ab-d9a770ea5b23"
      },
      "id": "gM3W_Wt-28Bj",
      "execution_count": 110,
      "outputs": [
        {
          "output_type": "execute_result",
          "data": {
            "text/plain": [
              "<Axes: ylabel='цена за квадратный метр'>"
            ]
          },
          "metadata": {},
          "execution_count": 110
        },
        {
          "output_type": "display_data",
          "data": {
            "text/plain": [
              "<Figure size 640x480 with 1 Axes>"
            ],
            "image/png": "[encoded data removed]"
          },
          "metadata": {}
        }
      ]
    },
    {
      "cell_type": "code",
      "source": [
        "# срезаем выбросы\n",
        "df = df[df['цена за квадратный метр'].between(q2, q1)]"
      ],
      "metadata": {
        "id": "3Jd_GLYt4EtB"
      },
      "id": "3Jd_GLYt4EtB",
      "execution_count": 97,
      "outputs": []
    },
    {
      "cell_type": "code",
      "execution_count": 98,
      "id": "ba24e4b6",
      "metadata": {
        "id": "ba24e4b6"
      },
      "outputs": [],
      "source": [
        "# определяем таргет и фичи\n",
        "\n",
        "y = ['цена за квадратный метр']\n",
        "\n",
        "cat_features = ['метро', 'время до метро (группа)']\n",
        "num_features = ['этажность дома', 'площадь']\n",
        "\n",
        "x = cat_features+num_features"
      ]
    },
    {
      "cell_type": "code",
      "source": [
        "# разбиваем датасет на обучающую, тестовую и валидационную выборки\n",
        "\n",
        "train, test = train_test_split(df, test_size=0.2, random_state=12)\n",
        "train, val = train_test_split(train, test_size=0.25, random_state=12)"
      ],
      "metadata": {
        "id": "XN_QIHpFfPTl"
      },
      "id": "XN_QIHpFfPTl",
      "execution_count": 99,
      "outputs": []
    },
    {
      "cell_type": "code",
      "source": [
        "# формируем наборы обучающих и валидационных данных\n",
        "\n",
        "train_data = Pool(\n",
        "    data=train[x],\n",
        "    label = train[y],\n",
        "    cat_features=cat_features\n",
        "    )\n",
        "\n",
        "eval_data = Pool(\n",
        "    data=val[x],\n",
        "    label = val[y],\n",
        "    cat_features=cat_features\n",
        "    )"
      ],
      "metadata": {
        "id": "8ELMVrbWbKW2"
      },
      "id": "8ELMVrbWbKW2",
      "execution_count": 100,
      "outputs": []
    },
    {
      "cell_type": "code",
      "source": [
        "# устанавливаем параметры модели\n",
        "\n",
        "parameters = {'cat_features':cat_features,\n",
        "              'loss_function':'MAE',\n",
        "              'eval_metric':'MAE',\n",
        "              'learning_rate':0.4,\n",
        "              'early_stopping_rounds':200,\n",
        "              'random_seed':42,\n",
        "              'verbose':100}"
      ],
      "metadata": {
        "id": "nVI0W4F1ffBU"
      },
      "id": "nVI0W4F1ffBU",
      "execution_count": 104,
      "outputs": []
    },
    {
      "cell_type": "code",
      "execution_count": 105,
      "id": "a85d49a4",
      "metadata": {
        "colab": {
          "base_uri": "https://localhost:8080/"
        },
        "id": "a85d49a4",
        "outputId": "9c7b3e33-5fe9-4755-9393-d71020f668a8"
      },
      "outputs": [
        {
          "output_type": "stream",
          "name": "stdout",
          "text": [
            "0:\tlearn: 66772.8542975\ttest: 67488.0507614\tbest: 67488.0507614 (0)\ttotal: 16.2ms\tremaining: 16.2s\n",
            "100:\tlearn: 45092.1241361\ttest: 46871.1688385\tbest: 46862.6470235 (99)\ttotal: 1.29s\tremaining: 11.5s\n",
            "200:\tlearn: 42474.4405577\ttest: 46110.8539139\tbest: 46110.8539139 (200)\ttotal: 3.29s\tremaining: 13.1s\n",
            "300:\tlearn: 41216.9291955\ttest: 46018.7125178\tbest: 46014.5841504 (287)\ttotal: 5.18s\tremaining: 12s\n",
            "400:\tlearn: 40447.9735969\ttest: 45846.6303218\tbest: 45846.6303218 (400)\ttotal: 7.17s\tremaining: 10.7s\n",
            "500:\tlearn: 39805.8207657\ttest: 45715.7904703\tbest: 45710.6243682 (489)\ttotal: 9.05s\tremaining: 9.01s\n",
            "600:\tlearn: 39261.4984523\ttest: 45718.3785566\tbest: 45700.8397636 (508)\ttotal: 10.3s\tremaining: 6.84s\n",
            "700:\tlearn: 38789.0268049\ttest: 45707.3467292\tbest: 45689.4075245 (684)\ttotal: 11.6s\tremaining: 4.93s\n",
            "800:\tlearn: 38407.7615440\ttest: 45729.1991073\tbest: 45689.4075245 (684)\ttotal: 12.8s\tremaining: 3.18s\n",
            "Stopped by overfitting detector  (200 iterations wait)\n",
            "\n",
            "bestTest = 45689.40752\n",
            "bestIteration = 684\n",
            "\n",
            "Shrink model to first 685 iterations.\n"
          ]
        },
        {
          "output_type": "execute_result",
          "data": {
            "text/plain": [
              "<catboost.core.CatBoostRegressor at 0x7e8db2edef20>"
            ]
          },
          "metadata": {},
          "execution_count": 105
        }
      ],
      "source": [
        "# обучаем модель\n",
        "\n",
        "model = CatBoostRegressor(**parameters)\n",
        "model.fit(train[x], train[y], eval_set=(val[x], val[y]))"
      ]
    },
    {
      "cell_type": "code",
      "source": [
        "test['price_pred'] = model.predict(test[x])"
      ],
      "metadata": {
        "id": "Dc0JGMa1arbl"
      },
      "id": "Dc0JGMa1arbl",
      "execution_count": 106,
      "outputs": []
    },
    {
      "cell_type": "code",
      "source": [
        "# оцениваем эффективность модели на основе метрик MAE и MAPE\n",
        "mean_absolute_error(test['цена за квадратный метр'], test['price_pred'])"
      ],
      "metadata": {
        "colab": {
          "base_uri": "https://localhost:8080/"
        },
        "id": "x7iGdbXUaoOt",
        "outputId": "0636b7fc-6c09-4e3b-e037-8dccf8cbbdff"
      },
      "id": "x7iGdbXUaoOt",
      "execution_count": 107,
      "outputs": [
        {
          "output_type": "execute_result",
          "data": {
            "text/plain": [
              "44838.88958058782"
            ]
          },
          "metadata": {},
          "execution_count": 107
        }
      ]
    },
    {
      "cell_type": "code",
      "source": [
        "mean_absolute_percentage_error(test['цена за квадратный метр'], test['price_pred'])"
      ],
      "metadata": {
        "colab": {
          "base_uri": "https://localhost:8080/"
        },
        "id": "ShVR6L3Na5fO",
        "outputId": "ccd7e175-c9a3-45f6-d2be-44c731b24f17"
      },
      "id": "ShVR6L3Na5fO",
      "execution_count": 108,
      "outputs": [
        {
          "output_type": "execute_result",
          "data": {
            "text/plain": [
              "0.1123984444533071"
            ]
          },
          "metadata": {},
          "execution_count": 108
        }
      ]
    },
    {
      "cell_type": "code",
      "source": [
        "# оцениваем фичи по коэффициенту Пирсона, feature importance и phik\n",
        "\n",
        "for i in ['этаж (цифрой)', 'этажность дома', 'площадь']:\n",
        "  coef = np.corrcoef(df[i], df['цена за квадратный метр'])\n",
        "  print(i, coef[0][1])"
      ],
      "metadata": {
        "colab": {
          "base_uri": "https://localhost:8080/"
        },
        "id": "nf691zgdcAEz",
        "outputId": "cb42e91a-e51d-498e-aab4-86bafe69d5bc"
      },
      "id": "nf691zgdcAEz",
      "execution_count": 111,
      "outputs": [
        {
          "output_type": "stream",
          "name": "stdout",
          "text": [
            "этаж (цифрой) 0.20576906157282\n",
            "этажность дома 0.3067441292356906\n",
            "площадь 0.23446427646765072\n"
          ]
        }
      ]
    },
    {
      "cell_type": "code",
      "source": [
        "model.get_feature_importance(prettified=True)"
      ],
      "metadata": {
        "colab": {
          "base_uri": "https://localhost:8080/",
          "height": 175
        },
        "id": "e4mSHNorbe-_",
        "outputId": "51b581da-6675-43e8-e384-716f5d13b7de"
      },
      "id": "e4mSHNorbe-_",
      "execution_count": 112,
      "outputs": [
        {
          "output_type": "execute_result",
          "data": {
            "text/plain": [
              "                Feature Id  Importances\n",
              "0                    метро    45.014870\n",
              "1           этажность дома    24.119900\n",
              "2                  площадь    17.881771\n",
              "3  время до метро (группа)    12.983458"
            ],
            "text/html": [
              "\n",
              "  <div id=\"df-8b39330f-3142-4ec0-a20a-c07e59aacdb8\" class=\"colab-df-container\">\n",
              "    <div>\n",
              "<style scoped>\n",
              "    .dataframe tbody tr th:only-of-type {\n",
              "        vertical-align: middle;\n",
              "    }\n",
              "\n",
              "    .dataframe tbody tr th {\n",
              "        vertical-align: top;\n",
              "    }\n",
              "\n",
              "    .dataframe thead th {\n",
              "        text-align: right;\n",
              "    }\n",
              "</style>\n",
              "<table border=\"1\" class=\"dataframe\">\n",
              "  <thead>\n",
              "    <tr style=\"text-align: right;\">\n",
              "      <th></th>\n",
              "      <th>Feature Id</th>\n",
              "      <th>Importances</th>\n",
              "    </tr>\n",
              "  </thead>\n",
              "  <tbody>\n",
              "    <tr>\n",
              "      <th>0</th>\n",
              "      <td>метро</td>\n",
              "      <td>45.014870</td>\n",
              "    </tr>\n",
              "    <tr>\n",
              "      <th>1</th>\n",
              "      <td>этажность дома</td>\n",
              "      <td>24.119900</td>\n",
              "    </tr>\n",
              "    <tr>\n",
              "      <th>2</th>\n",
              "      <td>площадь</td>\n",
              "      <td>17.881771</td>\n",
              "    </tr>\n",
              "    <tr>\n",
              "      <th>3</th>\n",
              "      <td>время до метро (группа)</td>\n",
              "      <td>12.983458</td>\n",
              "    </tr>\n",
              "  </tbody>\n",
              "</table>\n",
              "</div>\n",
              "    <div class=\"colab-df-buttons\">\n",
              "\n",
              "  <div class=\"colab-df-container\">\n",
              "    <button class=\"colab-df-convert\" onclick=\"convertToInteractive('df-8b39330f-3142-4ec0-a20a-c07e59aacdb8')\"\n",
              "            title=\"Convert this dataframe to an interactive table.\"\n",
              "            style=\"display:none;\">\n",
              "\n",
              "  <svg xmlns=\"http://www.w3.org/2000/svg\" height=\"24px\" viewBox=\"0 -960 960 960\">\n",
              "    <path d=\"M120-120v-720h720v720H120Zm60-500h600v-160H180v160Zm220 220h160v-160H400v160Zm0 220h160v-160H400v160ZM180-400h160v-160H180v160Zm440 0h160v-160H620v160ZM180-180h160v-160H180v160Zm440 0h160v-160H620v160Z\"/>\n",
              "  </svg>\n",
              "    </button>\n",
              "\n",
              "  <style>\n",
              "    .colab-df-container {\n",
              "      display:flex;\n",
              "      gap: 12px;\n",
              "    }\n",
              "\n",
              "    .colab-df-convert {\n",
              "      background-color: #E8F0FE;\n",
              "      border: none;\n",
              "      border-radius: 50%;\n",
              "      cursor: pointer;\n",
              "      display: none;\n",
              "      fill: #1967D2;\n",
              "      height: 32px;\n",
              "      padding: 0 0 0 0;\n",
              "      width: 32px;\n",
              "    }\n",
              "\n",
              "    .colab-df-convert:hover {\n",
              "      background-color: #E2EBFA;\n",
              "      box-shadow: 0px 1px 2px rgba(60, 64, 67, 0.3), 0px 1px 3px 1px rgba(60, 64, 67, 0.15);\n",
              "      fill: #174EA6;\n",
              "    }\n",
              "\n",
              "    .colab-df-buttons div {\n",
              "      margin-bottom: 4px;\n",
              "    }\n",
              "\n",
              "    [theme=dark] .colab-df-convert {\n",
              "      background-color: #3B4455;\n",
              "      fill: #D2E3FC;\n",
              "    }\n",
              "\n",
              "    [theme=dark] .colab-df-convert:hover {\n",
              "      background-color: #434B5C;\n",
              "      box-shadow: 0px 1px 3px 1px rgba(0, 0, 0, 0.15);\n",
              "      filter: drop-shadow(0px 1px 2px rgba(0, 0, 0, 0.3));\n",
              "      fill: #FFFFFF;\n",
              "    }\n",
              "  </style>\n",
              "\n",
              "    <script>\n",
              "      const buttonEl =\n",
              "        document.querySelector('#df-8b39330f-3142-4ec0-a20a-c07e59aacdb8 button.colab-df-convert');\n",
              "      buttonEl.style.display =\n",
              "        google.colab.kernel.accessAllowed ? 'block' : 'none';\n",
              "\n",
              "      async function convertToInteractive(key) {\n",
              "        const element = document.querySelector('#df-8b39330f-3142-4ec0-a20a-c07e59aacdb8');\n",
              "        const dataTable =\n",
              "          await google.colab.kernel.invokeFunction('convertToInteractive',\n",
              "                                                    [key], {});\n",
              "        if (!dataTable) return;\n",
              "\n",
              "        const docLinkHtml = 'Like what you see? Visit the ' +\n",
              "          '<a target=\"_blank\" href=https://colab.research.google.com/notebooks/data_table.ipynb>data table notebook</a>'\n",
              "          + ' to learn more about interactive tables.';\n",
              "        element.innerHTML = '';\n",
              "        dataTable['output_type'] = 'display_data';\n",
              "        await google.colab.output.renderOutput(dataTable, element);\n",
              "        const docLink = document.createElement('div');\n",
              "        docLink.innerHTML = docLinkHtml;\n",
              "        element.appendChild(docLink);\n",
              "      }\n",
              "    </script>\n",
              "  </div>\n",
              "\n",
              "\n",
              "<div id=\"df-2a9caa8b-262c-48c5-b87b-41d9516a411a\">\n",
              "  <button class=\"colab-df-quickchart\" onclick=\"quickchart('df-2a9caa8b-262c-48c5-b87b-41d9516a411a')\"\n",
              "            title=\"Suggest charts\"\n",
              "            style=\"display:none;\">\n",
              "\n",
              "<svg xmlns=\"http://www.w3.org/2000/svg\" height=\"24px\"viewBox=\"0 0 24 24\"\n",
              "     width=\"24px\">\n",
              "    <g>\n",
              "        <path d=\"M19 3H5c-1.1 0-2 .9-2 2v14c0 1.1.9 2 2 2h14c1.1 0 2-.9 2-2V5c0-1.1-.9-2-2-2zM9 17H7v-7h2v7zm4 0h-2V7h2v10zm4 0h-2v-4h2v4z\"/>\n",
              "    </g>\n",
              "</svg>\n",
              "  </button>\n",
              "\n",
              "<style>\n",
              "  .colab-df-quickchart {\n",
              "      --bg-color: #E8F0FE;\n",
              "      --fill-color: #1967D2;\n",
              "      --hover-bg-color: #E2EBFA;\n",
              "      --hover-fill-color: #174EA6;\n",
              "      --disabled-fill-color: #AAA;\n",
              "      --disabled-bg-color: #DDD;\n",
              "  }\n",
              "\n",
              "  [theme=dark] .colab-df-quickchart {\n",
              "      --bg-color: #3B4455;\n",
              "      --fill-color: #D2E3FC;\n",
              "      --hover-bg-color: #434B5C;\n",
              "      --hover-fill-color: #FFFFFF;\n",
              "      --disabled-bg-color: #3B4455;\n",
              "      --disabled-fill-color: #666;\n",
              "  }\n",
              "\n",
              "  .colab-df-quickchart {\n",
              "    background-color: var(--bg-color);\n",
              "    border: none;\n",
              "    border-radius: 50%;\n",
              "    cursor: pointer;\n",
              "    display: none;\n",
              "    fill: var(--fill-color);\n",
              "    height: 32px;\n",
              "    padding: 0;\n",
              "    width: 32px;\n",
              "  }\n",
              "\n",
              "  .colab-df-quickchart:hover {\n",
              "    background-color: var(--hover-bg-color);\n",
              "    box-shadow: 0 1px 2px rgba(60, 64, 67, 0.3), 0 1px 3px 1px rgba(60, 64, 67, 0.15);\n",
              "    fill: var(--button-hover-fill-color);\n",
              "  }\n",
              "\n",
              "  .colab-df-quickchart-complete:disabled,\n",
              "  .colab-df-quickchart-complete:disabled:hover {\n",
              "    background-color: var(--disabled-bg-color);\n",
              "    fill: var(--disabled-fill-color);\n",
              "    box-shadow: none;\n",
              "  }\n",
              "\n",
              "  .colab-df-spinner {\n",
              "    border: 2px solid var(--fill-color);\n",
              "    border-color: transparent;\n",
              "    border-bottom-color: var(--fill-color);\n",
              "    animation:\n",
              "      spin 1s steps(1) infinite;\n",
              "  }\n",
              "\n",
              "  @keyframes spin {\n",
              "    0% {\n",
              "      border-color: transparent;\n",
              "      border-bottom-color: var(--fill-color);\n",
              "      border-left-color: var(--fill-color);\n",
              "    }\n",
              "    20% {\n",
              "      border-color: transparent;\n",
              "      border-left-color: var(--fill-color);\n",
              "      border-top-color: var(--fill-color);\n",
              "    }\n",
              "    30% {\n",
              "      border-color: transparent;\n",
              "      border-left-color: var(--fill-color);\n",
              "      border-top-color: var(--fill-color);\n",
              "      border-right-color: var(--fill-color);\n",
              "    }\n",
              "    40% {\n",
              "      border-color: transparent;\n",
              "      border-right-color: var(--fill-color);\n",
              "      border-top-color: var(--fill-color);\n",
              "    }\n",
              "    60% {\n",
              "      border-color: transparent;\n",
              "      border-right-color: var(--fill-color);\n",
              "    }\n",
              "    80% {\n",
              "      border-color: transparent;\n",
              "      border-right-color: var(--fill-color);\n",
              "      border-bottom-color: var(--fill-color);\n",
              "    }\n",
              "    90% {\n",
              "      border-color: transparent;\n",
              "      border-bottom-color: var(--fill-color);\n",
              "    }\n",
              "  }\n",
              "</style>\n",
              "\n",
              "  <script>\n",
              "    async function quickchart(key) {\n",
              "      const quickchartButtonEl =\n",
              "        document.querySelector('#' + key + ' button');\n",
              "      quickchartButtonEl.disabled = true;  // To prevent multiple clicks.\n",
              "      quickchartButtonEl.classList.add('colab-df-spinner');\n",
              "      try {\n",
              "        const charts = await google.colab.kernel.invokeFunction(\n",
              "            'suggestCharts', [key], {});\n",
              "      } catch (error) {\n",
              "        console.error('Error during call to suggestCharts:', error);\n",
              "      }\n",
              "      quickchartButtonEl.classList.remove('colab-df-spinner');\n",
              "      quickchartButtonEl.classList.add('colab-df-quickchart-complete');\n",
              "    }\n",
              "    (() => {\n",
              "      let quickchartButtonEl =\n",
              "        document.querySelector('#df-2a9caa8b-262c-48c5-b87b-41d9516a411a button');\n",
              "      quickchartButtonEl.style.display =\n",
              "        google.colab.kernel.accessAllowed ? 'block' : 'none';\n",
              "    })();\n",
              "  </script>\n",
              "</div>\n",
              "    </div>\n",
              "  </div>\n"
            ],
            "application/vnd.google.colaboratory.intrinsic+json": {
              "type": "dataframe",
              "summary": "{\n  \"name\": \"model\",\n  \"rows\": 4,\n  \"fields\": [\n    {\n      \"column\": \"Feature Id\",\n      \"properties\": {\n        \"dtype\": \"string\",\n        \"num_unique_values\": 4,\n        \"samples\": [\n          \"\\u044d\\u0442\\u0430\\u0436\\u043d\\u043e\\u0441\\u0442\\u044c \\u0434\\u043e\\u043c\\u0430\",\n          \"\\u0432\\u0440\\u0435\\u043c\\u044f \\u0434\\u043e \\u043c\\u0435\\u0442\\u0440\\u043e (\\u0433\\u0440\\u0443\\u043f\\u043f\\u0430)\",\n          \"\\u043c\\u0435\\u0442\\u0440\\u043e\"\n        ],\n        \"semantic_type\": \"\",\n        \"description\": \"\"\n      }\n    },\n    {\n      \"column\": \"Importances\",\n      \"properties\": {\n        \"dtype\": \"number\",\n        \"std\": 14.100071734179329,\n        \"min\": 12.98345820141028,\n        \"max\": 45.01487036207624,\n        \"num_unique_values\": 4,\n        \"samples\": [\n          24.11990019452947,\n          12.98345820141028,\n          45.01487036207624\n        ],\n        \"semantic_type\": \"\",\n        \"description\": \"\"\n      }\n    }\n  ]\n}"
            }
          },
          "metadata": {},
          "execution_count": 112
        }
      ]
    },
    {
      "cell_type": "code",
      "source": [
        "df_phik = df[list(x+y)]\n",
        "phik_overview = df_phik.phik_matrix()\n",
        "phik_overview"
      ],
      "metadata": {
        "colab": {
          "base_uri": "https://localhost:8080/",
          "height": 224
        },
        "id": "xNUzJ8bmoLBv",
        "outputId": "85c91e4d-97b6-40b7-aae3-9c8333a7c360"
      },
      "id": "xNUzJ8bmoLBv",
      "execution_count": 113,
      "outputs": [
        {
          "output_type": "stream",
          "name": "stdout",
          "text": [
            "interval columns not set, guessing: ['этажность дома', 'площадь', 'цена за квадратный метр']\n"
          ]
        },
        {
          "output_type": "execute_result",
          "data": {
            "text/plain": [
              "                            метро  время до метро (группа)  этажность дома  \\\n",
              "метро                    1.000000                 0.737822        0.800757   \n",
              "время до метро (группа)  0.737822                 1.000000        0.150723   \n",
              "этажность дома           0.800757                 0.150723        1.000000   \n",
              "площадь                  0.455201                 0.092527        0.235096   \n",
              "цена за квадратный метр  0.685599                 0.167401        0.327013   \n",
              "\n",
              "                          площадь  цена за квадратный метр  \n",
              "метро                    0.455201                 0.685599  \n",
              "время до метро (группа)  0.092527                 0.167401  \n",
              "этажность дома           0.235096                 0.327013  \n",
              "площадь                  1.000000                 0.286906  \n",
              "цена за квадратный метр  0.286906                 1.000000  "
            ],
            "text/html": [
              "\n",
              "  <div id=\"df-ea03fb2f-2f0a-485f-88ed-3fe006357a92\" class=\"colab-df-container\">\n",
              "    <div>\n",
              "<style scoped>\n",
              "    .dataframe tbody tr th:only-of-type {\n",
              "        vertical-align: middle;\n",
              "    }\n",
              "\n",
              "    .dataframe tbody tr th {\n",
              "        vertical-align: top;\n",
              "    }\n",
              "\n",
              "    .dataframe thead th {\n",
              "        text-align: right;\n",
              "    }\n",
              "</style>\n",
              "<table border=\"1\" class=\"dataframe\">\n",
              "  <thead>\n",
              "    <tr style=\"text-align: right;\">\n",
              "      <th></th>\n",
              "      <th>метро</th>\n",
              "      <th>время до метро (группа)</th>\n",
              "      <th>этажность дома</th>\n",
              "      <th>площадь</th>\n",
              "      <th>цена за квадратный метр</th>\n",
              "    </tr>\n",
              "  </thead>\n",
              "  <tbody>\n",
              "    <tr>\n",
              "      <th>метро</th>\n",
              "      <td>1.000000</td>\n",
              "      <td>0.737822</td>\n",
              "      <td>0.800757</td>\n",
              "      <td>0.455201</td>\n",
              "      <td>0.685599</td>\n",
              "    </tr>\n",
              "    <tr>\n",
              "      <th>время до метро (группа)</th>\n",
              "      <td>0.737822</td>\n",
              "      <td>1.000000</td>\n",
              "      <td>0.150723</td>\n",
              "      <td>0.092527</td>\n",
              "      <td>0.167401</td>\n",
              "    </tr>\n",
              "    <tr>\n",
              "      <th>этажность дома</th>\n",
              "      <td>0.800757</td>\n",
              "      <td>0.150723</td>\n",
              "      <td>1.000000</td>\n",
              "      <td>0.235096</td>\n",
              "      <td>0.327013</td>\n",
              "    </tr>\n",
              "    <tr>\n",
              "      <th>площадь</th>\n",
              "      <td>0.455201</td>\n",
              "      <td>0.092527</td>\n",
              "      <td>0.235096</td>\n",
              "      <td>1.000000</td>\n",
              "      <td>0.286906</td>\n",
              "    </tr>\n",
              "    <tr>\n",
              "      <th>цена за квадратный метр</th>\n",
              "      <td>0.685599</td>\n",
              "      <td>0.167401</td>\n",
              "      <td>0.327013</td>\n",
              "      <td>0.286906</td>\n",
              "      <td>1.000000</td>\n",
              "    </tr>\n",
              "  </tbody>\n",
              "</table>\n",
              "</div>\n",
              "    <div class=\"colab-df-buttons\">\n",
              "\n",
              "  <div class=\"colab-df-container\">\n",
              "    <button class=\"colab-df-convert\" onclick=\"convertToInteractive('df-ea03fb2f-2f0a-485f-88ed-3fe006357a92')\"\n",
              "            title=\"Convert this dataframe to an interactive table.\"\n",
              "            style=\"display:none;\">\n",
              "\n",
              "  <svg xmlns=\"http://www.w3.org/2000/svg\" height=\"24px\" viewBox=\"0 -960 960 960\">\n",
              "    <path d=\"M120-120v-720h720v720H120Zm60-500h600v-160H180v160Zm220 220h160v-160H400v160Zm0 220h160v-160H400v160ZM180-400h160v-160H180v160Zm440 0h160v-160H620v160ZM180-180h160v-160H180v160Zm440 0h160v-160H620v160Z\"/>\n",
              "  </svg>\n",
              "    </button>\n",
              "\n",
              "  <style>\n",
              "    .colab-df-container {\n",
              "      display:flex;\n",
              "      gap: 12px;\n",
              "    }\n",
              "\n",
              "    .colab-df-convert {\n",
              "      background-color: #E8F0FE;\n",
              "      border: none;\n",
              "      border-radius: 50%;\n",
              "      cursor: pointer;\n",
              "      display: none;\n",
              "      fill: #1967D2;\n",
              "      height: 32px;\n",
              "      padding: 0 0 0 0;\n",
              "      width: 32px;\n",
              "    }\n",
              "\n",
              "    .colab-df-convert:hover {\n",
              "      background-color: #E2EBFA;\n",
              "      box-shadow: 0px 1px 2px rgba(60, 64, 67, 0.3), 0px 1px 3px 1px rgba(60, 64, 67, 0.15);\n",
              "      fill: #174EA6;\n",
              "    }\n",
              "\n",
              "    .colab-df-buttons div {\n",
              "      margin-bottom: 4px;\n",
              "    }\n",
              "\n",
              "    [theme=dark] .colab-df-convert {\n",
              "      background-color: #3B4455;\n",
              "      fill: #D2E3FC;\n",
              "    }\n",
              "\n",
              "    [theme=dark] .colab-df-convert:hover {\n",
              "      background-color: #434B5C;\n",
              "      box-shadow: 0px 1px 3px 1px rgba(0, 0, 0, 0.15);\n",
              "      filter: drop-shadow(0px 1px 2px rgba(0, 0, 0, 0.3));\n",
              "      fill: #FFFFFF;\n",
              "    }\n",
              "  </style>\n",
              "\n",
              "    <script>\n",
              "      const buttonEl =\n",
              "        document.querySelector('#df-ea03fb2f-2f0a-485f-88ed-3fe006357a92 button.colab-df-convert');\n",
              "      buttonEl.style.display =\n",
              "        google.colab.kernel.accessAllowed ? 'block' : 'none';\n",
              "\n",
              "      async function convertToInteractive(key) {\n",
              "        const element = document.querySelector('#df-ea03fb2f-2f0a-485f-88ed-3fe006357a92');\n",
              "        const dataTable =\n",
              "          await google.colab.kernel.invokeFunction('convertToInteractive',\n",
              "                                                    [key], {});\n",
              "        if (!dataTable) return;\n",
              "\n",
              "        const docLinkHtml = 'Like what you see? Visit the ' +\n",
              "          '<a target=\"_blank\" href=https://colab.research.google.com/notebooks/data_table.ipynb>data table notebook</a>'\n",
              "          + ' to learn more about interactive tables.';\n",
              "        element.innerHTML = '';\n",
              "        dataTable['output_type'] = 'display_data';\n",
              "        await google.colab.output.renderOutput(dataTable, element);\n",
              "        const docLink = document.createElement('div');\n",
              "        docLink.innerHTML = docLinkHtml;\n",
              "        element.appendChild(docLink);\n",
              "      }\n",
              "    </script>\n",
              "  </div>\n",
              "\n",
              "\n",
              "<div id=\"df-fd987e8e-8f83-4bd3-a381-a1e408b18cbe\">\n",
              "  <button class=\"colab-df-quickchart\" onclick=\"quickchart('df-fd987e8e-8f83-4bd3-a381-a1e408b18cbe')\"\n",
              "            title=\"Suggest charts\"\n",
              "            style=\"display:none;\">\n",
              "\n",
              "<svg xmlns=\"http://www.w3.org/2000/svg\" height=\"24px\"viewBox=\"0 0 24 24\"\n",
              "     width=\"24px\">\n",
              "    <g>\n",
              "        <path d=\"M19 3H5c-1.1 0-2 .9-2 2v14c0 1.1.9 2 2 2h14c1.1 0 2-.9 2-2V5c0-1.1-.9-2-2-2zM9 17H7v-7h2v7zm4 0h-2V7h2v10zm4 0h-2v-4h2v4z\"/>\n",
              "    </g>\n",
              "</svg>\n",
              "  </button>\n",
              "\n",
              "<style>\n",
              "  .colab-df-quickchart {\n",
              "      --bg-color: #E8F0FE;\n",
              "      --fill-color: #1967D2;\n",
              "      --hover-bg-color: #E2EBFA;\n",
              "      --hover-fill-color: #174EA6;\n",
              "      --disabled-fill-color: #AAA;\n",
              "      --disabled-bg-color: #DDD;\n",
              "  }\n",
              "\n",
              "  [theme=dark] .colab-df-quickchart {\n",
              "      --bg-color: #3B4455;\n",
              "      --fill-color: #D2E3FC;\n",
              "      --hover-bg-color: #434B5C;\n",
              "      --hover-fill-color: #FFFFFF;\n",
              "      --disabled-bg-color: #3B4455;\n",
              "      --disabled-fill-color: #666;\n",
              "  }\n",
              "\n",
              "  .colab-df-quickchart {\n",
              "    background-color: var(--bg-color);\n",
              "    border: none;\n",
              "    border-radius: 50%;\n",
              "    cursor: pointer;\n",
              "    display: none;\n",
              "    fill: var(--fill-color);\n",
              "    height: 32px;\n",
              "    padding: 0;\n",
              "    width: 32px;\n",
              "  }\n",
              "\n",
              "  .colab-df-quickchart:hover {\n",
              "    background-color: var(--hover-bg-color);\n",
              "    box-shadow: 0 1px 2px rgba(60, 64, 67, 0.3), 0 1px 3px 1px rgba(60, 64, 67, 0.15);\n",
              "    fill: var(--button-hover-fill-color);\n",
              "  }\n",
              "\n",
              "  .colab-df-quickchart-complete:disabled,\n",
              "  .colab-df-quickchart-complete:disabled:hover {\n",
              "    background-color: var(--disabled-bg-color);\n",
              "    fill: var(--disabled-fill-color);\n",
              "    box-shadow: none;\n",
              "  }\n",
              "\n",
              "  .colab-df-spinner {\n",
              "    border: 2px solid var(--fill-color);\n",
              "    border-color: transparent;\n",
              "    border-bottom-color: var(--fill-color);\n",
              "    animation:\n",
              "      spin 1s steps(1) infinite;\n",
              "  }\n",
              "\n",
              "  @keyframes spin {\n",
              "    0% {\n",
              "      border-color: transparent;\n",
              "      border-bottom-color: var(--fill-color);\n",
              "      border-left-color: var(--fill-color);\n",
              "    }\n",
              "    20% {\n",
              "      border-color: transparent;\n",
              "      border-left-color: var(--fill-color);\n",
              "      border-top-color: var(--fill-color);\n",
              "    }\n",
              "    30% {\n",
              "      border-color: transparent;\n",
              "      border-left-color: var(--fill-color);\n",
              "      border-top-color: var(--fill-color);\n",
              "      border-right-color: var(--fill-color);\n",
              "    }\n",
              "    40% {\n",
              "      border-color: transparent;\n",
              "      border-right-color: var(--fill-color);\n",
              "      border-top-color: var(--fill-color);\n",
              "    }\n",
              "    60% {\n",
              "      border-color: transparent;\n",
              "      border-right-color: var(--fill-color);\n",
              "    }\n",
              "    80% {\n",
              "      border-color: transparent;\n",
              "      border-right-color: var(--fill-color);\n",
              "      border-bottom-color: var(--fill-color);\n",
              "    }\n",
              "    90% {\n",
              "      border-color: transparent;\n",
              "      border-bottom-color: var(--fill-color);\n",
              "    }\n",
              "  }\n",
              "</style>\n",
              "\n",
              "  <script>\n",
              "    async function quickchart(key) {\n",
              "      const quickchartButtonEl =\n",
              "        document.querySelector('#' + key + ' button');\n",
              "      quickchartButtonEl.disabled = true;  // To prevent multiple clicks.\n",
              "      quickchartButtonEl.classList.add('colab-df-spinner');\n",
              "      try {\n",
              "        const charts = await google.colab.kernel.invokeFunction(\n",
              "            'suggestCharts', [key], {});\n",
              "      } catch (error) {\n",
              "        console.error('Error during call to suggestCharts:', error);\n",
              "      }\n",
              "      quickchartButtonEl.classList.remove('colab-df-spinner');\n",
              "      quickchartButtonEl.classList.add('colab-df-quickchart-complete');\n",
              "    }\n",
              "    (() => {\n",
              "      let quickchartButtonEl =\n",
              "        document.querySelector('#df-fd987e8e-8f83-4bd3-a381-a1e408b18cbe button');\n",
              "      quickchartButtonEl.style.display =\n",
              "        google.colab.kernel.accessAllowed ? 'block' : 'none';\n",
              "    })();\n",
              "  </script>\n",
              "</div>\n",
              "    </div>\n",
              "  </div>\n"
            ],
            "application/vnd.google.colaboratory.intrinsic+json": {
              "type": "dataframe",
              "variable_name": "phik_overview",
              "summary": "{\n  \"name\": \"phik_overview\",\n  \"rows\": 5,\n  \"fields\": [\n    {\n      \"column\": \"\\u043c\\u0435\\u0442\\u0440\\u043e\",\n      \"properties\": {\n        \"dtype\": \"number\",\n        \"std\": 0.19702846623639664,\n        \"min\": 0.4552013194224466,\n        \"max\": 1.0,\n        \"num_unique_values\": 5,\n        \"samples\": [\n          0.7378215364607196,\n          0.6855992625690192,\n          0.8007571752192568\n        ],\n        \"semantic_type\": \"\",\n        \"description\": \"\"\n      }\n    },\n    {\n      \"column\": \"\\u0432\\u0440\\u0435\\u043c\\u044f \\u0434\\u043e \\u043c\\u0435\\u0442\\u0440\\u043e (\\u0433\\u0440\\u0443\\u043f\\u043f\\u0430)\",\n      \"properties\": {\n        \"dtype\": \"number\",\n        \"std\": 0.41246069469254565,\n        \"min\": 0.09252684058330549,\n        \"max\": 1.0,\n        \"num_unique_values\": 5,\n        \"samples\": [\n          1.0,\n          0.16740127791080903,\n          0.15072335484999716\n        ],\n        \"semantic_type\": \"\",\n        \"description\": \"\"\n      }\n    },\n    {\n      \"column\": \"\\u044d\\u0442\\u0430\\u0436\\u043d\\u043e\\u0441\\u0442\\u044c \\u0434\\u043e\\u043c\\u0430\",\n      \"properties\": {\n        \"dtype\": \"number\",\n        \"std\": 0.3750034871759481,\n        \"min\": 0.15072335484999716,\n        \"max\": 1.0,\n        \"num_unique_values\": 5,\n        \"samples\": [\n          0.15072335484999716,\n          0.32701344904390833,\n          1.0\n        ],\n        \"semantic_type\": \"\",\n        \"description\": \"\"\n      }\n    },\n    {\n      \"column\": \"\\u043f\\u043b\\u043e\\u0449\\u0430\\u0434\\u044c\",\n      \"properties\": {\n        \"dtype\": \"number\",\n        \"std\": 0.35234853767134333,\n        \"min\": 0.09252684058330549,\n        \"max\": 1.0,\n        \"num_unique_values\": 5,\n        \"samples\": [\n          0.09252684058330549,\n          0.28690598977942416,\n          0.23509624332434653\n        ],\n        \"semantic_type\": \"\",\n        \"description\": \"\"\n      }\n    },\n    {\n      \"column\": \"\\u0446\\u0435\\u043d\\u0430 \\u0437\\u0430 \\u043a\\u0432\\u0430\\u0434\\u0440\\u0430\\u0442\\u043d\\u044b\\u0439 \\u043c\\u0435\\u0442\\u0440\",\n      \"properties\": {\n        \"dtype\": \"number\",\n        \"std\": 0.3428496546050606,\n        \"min\": 0.16740127791080903,\n        \"max\": 1.0,\n        \"num_unique_values\": 5,\n        \"samples\": [\n          0.16740127791080903,\n          1.0,\n          0.32701344904390833\n        ],\n        \"semantic_type\": \"\",\n        \"description\": \"\"\n      }\n    }\n  ]\n}"
            }
          },
          "metadata": {},
          "execution_count": 113
        }
      ]
    },
    {
      "cell_type": "code",
      "source": [
        "sns.heatmap(phik_overview)"
      ],
      "metadata": {
        "colab": {
          "base_uri": "https://localhost:8080/",
          "height": 629
        },
        "id": "BkDtBJc1p2wr",
        "outputId": "93e1bdae-ec2a-4e72-c8db-ea71703d95a5"
      },
      "id": "BkDtBJc1p2wr",
      "execution_count": 114,
      "outputs": [
        {
          "output_type": "execute_result",
          "data": {
            "text/plain": [
              "<Axes: >"
            ]
          },
          "metadata": {},
          "execution_count": 114
        },
        {
          "output_type": "display_data",
          "data": {
            "text/plain": [
              "<Figure size 640x480 with 2 Axes>"
            ],
            "image/png": "[encoded data removed]"
          },
          "metadata": {}
        }
      ]
    },
    {
      "cell_type": "code",
      "source": [
        "# сохраняем модель\n",
        "model.save_model('msk_flats_regr')"
      ],
      "metadata": {
        "id": "lheT0TOGa5pn"
      },
      "id": "lheT0TOGa5pn",
      "execution_count": 115,
      "outputs": []
    },
    {
      "cell_type": "markdown",
      "source": [
        "## 4. Выводы\n"
      ],
      "metadata": {
        "id": "bgQQRHgUcjoi"
      },
      "id": "bgQQRHgUcjoi"
    },
    {
      "cell_type": "markdown",
      "source": [
        "Таким образом, наибольшее влияние на итоговую цену оказывают такие факторы, как: ближайшая станция метро, площадь квартиры, этажность дома. Построенная модель для прогнозирования цены квадратного метра с показателем MAPE 0.11 считается хорошей. Однако ее можно улучшить и доработать, в т.ч. следующими способами:\n",
        "\n",
        "- отдельная обработка аномальных значений;\n",
        "- выстраивание типологии для более корректного разбиения типов комнатности на основе проектов и метража (с выделением евро-форматов);\n",
        "- поиск и выделение новых фич из уже имеющейся информации, или из сторонних источников (год постройки дома, новостройка/вторичка, застройщик, класс проекта, конкурентное окружение, наличие ремонта, благополучность района, улица, структура спроса в локации, видовая этажность, и т.д.)\n",
        "\n",
        "Кроме того, можно собирать данные с определенной регулярностью, чтобы отслеживать динамику и получать актуальные прогнозы. Также можно построить отдельную модель классификации для оценки структуры предложения по округам или районам, по типам комнатности, по плотности (распределение количества предложений по локациям), и визуализировать результат (разбиение на ценовые группы) через тепловую карту."
      ],
      "metadata": {
        "id": "qPbFzeHBPV4v"
      },
      "id": "qPbFzeHBPV4v"
    }
  ],
  "metadata": {
    "kernelspec": {
      "display_name": "Python 3 (ipykernel)",
      "language": "python",
      "name": "python3"
    },
    "language_info": {
      "codemirror_mode": {
        "name": "ipython",
        "version": 3
      },
      "file_extension": ".py",
      "mimetype": "text/x-python",
      "name": "python",
      "nbconvert_exporter": "python",
      "pygments_lexer": "ipython3",
      "version": "3.11.5"
    },
    "colab": {
      "provenance": []
    }
  },
  "nbformat": 4,
  "nbformat_minor": 5
}